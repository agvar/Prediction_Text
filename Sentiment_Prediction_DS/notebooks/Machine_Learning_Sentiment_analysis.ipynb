{
 "cells": [
  {
   "cell_type": "markdown",
   "metadata": {},
   "source": [
    "### Summary\n",
    "The sentiment140 dataset was used to clean tweets, train machine learning models.  \n",
    "Tweets were cleaned to get rid of non-alphanumeric characters,url links and numerals\n",
    "Stopwords were used from the nltk library with the exception of 'no' and 'not' as removing these from the text might impact the sentiment of the text  \n",
    "Stemming and Lemmatization were used to reduce the tweet words to their lemma/root  \n",
    "Term Frequency Inverse Document Frequency( TFIDF) was applied to convert tweets into vectors  \n",
    "Logistic Regression, naive bayes and Support Vector Classification Machine learning models were applied and confusion matrixes and ROC were computed\n",
    "\n",
    "### Sentiment140 Dataset Details\n",
    "\n",
    "### Source: http://help.sentiment140.com/for-students\n",
    "\n",
    "### Description\n",
    "The training data was automatically created, as opposed to having humans manual annotate tweets. In the approach used, any tweet with positive emoticons, like :), were positive, and tweets with negative emoticons, like :(, were negative. We used the Twitter Search API to collect these tweets by using keyword search. This is described in the following paper(https://cs.stanford.edu/people/alecmgo/papers/TwitterDistantSupervision09.pdf)\n",
    "The data is a CSV with emoticons removed.\n",
    "\n",
    "### MetaData\n",
    "\n",
    "Field Name |Description| \n",
    "------------|--------------|\n",
    "sentiment | the polarity of the tweet (0 = negative, 2 = neutral, 4 = positive)  |\n",
    "tweet_id| the id of the tweet |\n",
    "tweet_date|the date of the tweet in UTC  |\n",
    "query| the query used. If there is no query, then this value is NO_QUERY.  |\n",
    "username| the user that tweeted  |\n",
    "tweet|the text of the tweet  |"
   ]
  },
  {
   "cell_type": "markdown",
   "metadata": {},
   "source": [
    "### Import libraries"
   ]
  },
  {
   "cell_type": "code",
   "execution_count": 1,
   "metadata": {},
   "outputs": [],
   "source": [
    "from matplotlib import pyplot as plt\n",
    "import seaborn as sns\n",
    "import sklearn\n",
    "import pandas as pd\n",
    "import numpy as np\n",
    "import nltk\n",
    "from nltk.corpus import stopwords\n",
    "from nltk.tokenize import word_tokenize\n",
    "from nltk.stem.snowball import SnowballStemmer\n",
    "from nltk.stem.wordnet import WordNetLemmatizer\n",
    "from nltk import ngrams\n",
    "from sklearn.feature_extraction.text import TfidfVectorizer\n",
    "from sklearn.model_selection import train_test_split\n",
    "from sklearn.metrics import confusion_matrix,classification_report,accuracy_score,roc_curve,auc\n",
    "from sklearn.linear_model import LogisticRegression\n",
    "from sklearn.naive_bayes import BernoulliNB\n",
    "from sklearn.svm import LinearSVC\n",
    "from sklearn.ensemble import VotingClassifier\n",
    "from sklearn.tree import DecisionTreeClassifier\n",
    "from sklearn.ensemble import BaggingClassifier\n",
    "from datetime import datetime\n",
    "%matplotlib inline\n",
    "import re\n",
    "import warnings\n",
    "warnings.filterwarnings('ignore') \n",
    "import pickle"
   ]
  },
  {
   "cell_type": "markdown",
   "metadata": {},
   "source": [
    "#### Read from the input tweet file and assign column names"
   ]
  },
  {
   "cell_type": "code",
   "execution_count": 2,
   "metadata": {},
   "outputs": [],
   "source": [
    "input_file_sentiment=\"E:\\\\python_projects\\\\Springboard\\datasets\\\\twitter_sentiment140\\\\training_140_sentiment.csv\""
   ]
  },
  {
   "cell_type": "code",
   "execution_count": 3,
   "metadata": {},
   "outputs": [],
   "source": [
    "#input_file_airline=\"E:\\\\python_projects\\\\Springboard\\\\datasets\\\\twitter_airline_sentiment\\\\Tweets.csv\""
   ]
  },
  {
   "cell_type": "code",
   "execution_count": 4,
   "metadata": {},
   "outputs": [],
   "source": [
    "sentiment_colls=['sentiment','tweet_id','tweet_date','query','username','tweet']\n",
    "tweet_df=pd.read_csv(input_file_sentiment,encoding='cp1252',names=sentiment_colls,usecols=['sentiment','tweet'])\n",
    "#airline_df=pd.read_csv(input_file_airline,usecols=[1,10],names=['sentiment','tweet'],header=0)\n",
    "#tweet_df=pd.concat([sentiment_df,airline_df])"
   ]
  },
  {
   "cell_type": "code",
   "execution_count": 5,
   "metadata": {},
   "outputs": [
    {
     "data": {
      "text/plain": [
       "(1600000, 2)"
      ]
     },
     "execution_count": 5,
     "metadata": {},
     "output_type": "execute_result"
    }
   ],
   "source": [
    "tweet_df.shape"
   ]
  },
  {
   "cell_type": "code",
   "execution_count": 6,
   "metadata": {},
   "outputs": [
    {
     "name": "stdout",
     "output_type": "stream",
     "text": [
      "<class 'pandas.core.frame.DataFrame'>\n",
      "RangeIndex: 1600000 entries, 0 to 1599999\n",
      "Data columns (total 2 columns):\n",
      " #   Column     Non-Null Count    Dtype \n",
      "---  ------     --------------    ----- \n",
      " 0   sentiment  1600000 non-null  int64 \n",
      " 1   tweet      1600000 non-null  object\n",
      "dtypes: int64(1), object(1)\n",
      "memory usage: 24.4+ MB\n"
     ]
    }
   ],
   "source": [
    "tweet_df.info()"
   ]
  },
  {
   "cell_type": "markdown",
   "metadata": {},
   "source": [
    "#### Check for any null values in the tweet field"
   ]
  },
  {
   "cell_type": "code",
   "execution_count": 7,
   "metadata": {},
   "outputs": [
    {
     "data": {
      "text/plain": [
       "sentiment    0\n",
       "tweet        0\n",
       "dtype: int64"
      ]
     },
     "execution_count": 7,
     "metadata": {},
     "output_type": "execute_result"
    }
   ],
   "source": [
    "np.sum(tweet_df.isnull())"
   ]
  },
  {
   "cell_type": "markdown",
   "metadata": {},
   "source": [
    "#### Value counts on the output sentiment"
   ]
  },
  {
   "cell_type": "code",
   "execution_count": 8,
   "metadata": {},
   "outputs": [
    {
     "data": {
      "text/plain": [
       "0    800000\n",
       "4    800000\n",
       "Name: sentiment, dtype: int64"
      ]
     },
     "execution_count": 8,
     "metadata": {},
     "output_type": "execute_result"
    }
   ],
   "source": [
    "tweet_df.sentiment.value_counts()"
   ]
  },
  {
   "cell_type": "code",
   "execution_count": 9,
   "metadata": {},
   "outputs": [
    {
     "data": {
      "image/png": "[encoded data removed]",
      "text/plain": [
       "<Figure size 720x360 with 1 Axes>"
      ]
     },
     "metadata": {
      "needs_background": "light"
     },
     "output_type": "display_data"
    }
   ],
   "source": [
    "fig,ax=plt.subplots(figsize=(10,5))\n",
    "ax.hist(tweet_df.sentiment,color='blue')\n",
    "plt.show()"
   ]
  },
  {
   "cell_type": "code",
   "execution_count": 10,
   "metadata": {},
   "outputs": [
    {
     "data": {
      "image/png": "[encoded data removed]",
      "text/plain": [
       "<Figure size 432x288 with 1 Axes>"
      ]
     },
     "metadata": {
      "needs_background": "light"
     },
     "output_type": "display_data"
    }
   ],
   "source": [
    "sns.countplot(x='sentiment',data=tweet_df,palette='hls');"
   ]
  },
  {
   "cell_type": "code",
   "execution_count": 52,
   "metadata": {},
   "outputs": [
    {
     "data": {
      "text/html": [
       "<div>\n",
       "<style scoped>\n",
       "    .dataframe tbody tr th:only-of-type {\n",
       "        vertical-align: middle;\n",
       "    }\n",
       "\n",
       "    .dataframe tbody tr th {\n",
       "        vertical-align: top;\n",
       "    }\n",
       "\n",
       "    .dataframe thead th {\n",
       "        text-align: right;\n",
       "    }\n",
       "</style>\n",
       "<table border=\"1\" class=\"dataframe\">\n",
       "  <thead>\n",
       "    <tr style=\"text-align: right;\">\n",
       "      <th></th>\n",
       "      <th>tweet</th>\n",
       "      <th>sentiment</th>\n",
       "    </tr>\n",
       "  </thead>\n",
       "  <tbody>\n",
       "    <tr>\n",
       "      <th>0</th>\n",
       "      <td>@switchfoot http://twitpic.com/2y1zl - Awww, t...</td>\n",
       "      <td>0</td>\n",
       "    </tr>\n",
       "    <tr>\n",
       "      <th>1</th>\n",
       "      <td>is upset that he can't update his Facebook by ...</td>\n",
       "      <td>0</td>\n",
       "    </tr>\n",
       "    <tr>\n",
       "      <th>2</th>\n",
       "      <td>@Kenichan I dived many times for the ball. Man...</td>\n",
       "      <td>0</td>\n",
       "    </tr>\n",
       "    <tr>\n",
       "      <th>3</th>\n",
       "      <td>my whole body feels itchy and like its on fire</td>\n",
       "      <td>0</td>\n",
       "    </tr>\n",
       "    <tr>\n",
       "      <th>4</th>\n",
       "      <td>@nationwideclass no, it's not behaving at all....</td>\n",
       "      <td>0</td>\n",
       "    </tr>\n",
       "    <tr>\n",
       "      <th>...</th>\n",
       "      <td>...</td>\n",
       "      <td>...</td>\n",
       "    </tr>\n",
       "    <tr>\n",
       "      <th>1599995</th>\n",
       "      <td>Just woke up. Having no school is the best fee...</td>\n",
       "      <td>4</td>\n",
       "    </tr>\n",
       "    <tr>\n",
       "      <th>1599996</th>\n",
       "      <td>TheWDB.com - Very cool to hear old Walt interv...</td>\n",
       "      <td>4</td>\n",
       "    </tr>\n",
       "    <tr>\n",
       "      <th>1599997</th>\n",
       "      <td>Are you ready for your MoJo Makeover? Ask me f...</td>\n",
       "      <td>4</td>\n",
       "    </tr>\n",
       "    <tr>\n",
       "      <th>1599998</th>\n",
       "      <td>Happy 38th Birthday to my boo of alll time!!! ...</td>\n",
       "      <td>4</td>\n",
       "    </tr>\n",
       "    <tr>\n",
       "      <th>1599999</th>\n",
       "      <td>happy #charitytuesday @theNSPCC @SparksCharity...</td>\n",
       "      <td>4</td>\n",
       "    </tr>\n",
       "  </tbody>\n",
       "</table>\n",
       "<p>1600000 rows × 2 columns</p>\n",
       "</div>"
      ],
      "text/plain": [
       "                                                     tweet  sentiment\n",
       "0        @switchfoot http://twitpic.com/2y1zl - Awww, t...          0\n",
       "1        is upset that he can't update his Facebook by ...          0\n",
       "2        @Kenichan I dived many times for the ball. Man...          0\n",
       "3          my whole body feels itchy and like its on fire           0\n",
       "4        @nationwideclass no, it's not behaving at all....          0\n",
       "...                                                    ...        ...\n",
       "1599995  Just woke up. Having no school is the best fee...          4\n",
       "1599996  TheWDB.com - Very cool to hear old Walt interv...          4\n",
       "1599997  Are you ready for your MoJo Makeover? Ask me f...          4\n",
       "1599998  Happy 38th Birthday to my boo of alll time!!! ...          4\n",
       "1599999  happy #charitytuesday @theNSPCC @SparksCharity...          4\n",
       "\n",
       "[1600000 rows x 2 columns]"
      ]
     },
     "execution_count": 52,
     "metadata": {},
     "output_type": "execute_result"
    }
   ],
   "source": [
    "df_cleaned=tweet_df[['tweet','sentiment']]\n",
    "df_cleaned"
   ]
  },
  {
   "cell_type": "markdown",
   "metadata": {},
   "source": [
    "#### Adding stopwords from nltk and removing 'no' and 'not' from stopwords"
   ]
  },
  {
   "cell_type": "code",
   "execution_count": 53,
   "metadata": {},
   "outputs": [],
   "source": [
    "stopwords_default=stopwords.words('english')"
   ]
  },
  {
   "cell_type": "code",
   "execution_count": 54,
   "metadata": {},
   "outputs": [],
   "source": [
    "stopwords_updated=[word for word in stopwords_default if word not  in ['no','not'] ]\n"
   ]
  },
  {
   "cell_type": "markdown",
   "metadata": {},
   "source": [
    "#### Cleanse Tweets to remove punctuations,@, urls"
   ]
  },
  {
   "cell_type": "code",
   "execution_count": 55,
   "metadata": {},
   "outputs": [],
   "source": [
    "def cleanse_tweet(line):\n",
    "    #remove any @ words\n",
    "    tweet_no_refs=re.sub(r'@\\S+|#\\S+','',line)\n",
    "\n",
    "    #remove any non alphanumeric character like or punctuations\n",
    "    tweet_no_punctuation=re.sub(r'[^\\w\\s]','',tweet_no_refs)\n",
    "\n",
    "    #remove url links\n",
    "    tweet_no_urls=re.sub(r'https?\\S+','',tweet_no_punctuation)  \n",
    "       \n",
    "    #remove numerals\n",
    "    tweet_no_numerals=re.sub(r'[0-9]+','',tweet_no_urls)\n",
    "\n",
    "    #remove stopwords\n",
    "    tweet_stopwords=\" \".join([word.lower() for word in tweet_no_numerals.split() if word not in stopwords_updated])\n",
    "        \n",
    "    return tweet_stopwords\n",
    "    "
   ]
  },
  {
   "cell_type": "code",
   "execution_count": 56,
   "metadata": {},
   "outputs": [
    {
     "data": {
      "text/html": [
       "<div>\n",
       "<style scoped>\n",
       "    .dataframe tbody tr th:only-of-type {\n",
       "        vertical-align: middle;\n",
       "    }\n",
       "\n",
       "    .dataframe tbody tr th {\n",
       "        vertical-align: top;\n",
       "    }\n",
       "\n",
       "    .dataframe thead th {\n",
       "        text-align: right;\n",
       "    }\n",
       "</style>\n",
       "<table border=\"1\" class=\"dataframe\">\n",
       "  <thead>\n",
       "    <tr style=\"text-align: right;\">\n",
       "      <th></th>\n",
       "      <th>tweet</th>\n",
       "      <th>sentiment</th>\n",
       "      <th>tweet_cleaned</th>\n",
       "    </tr>\n",
       "  </thead>\n",
       "  <tbody>\n",
       "    <tr>\n",
       "      <th>0</th>\n",
       "      <td>@switchfoot http://twitpic.com/2y1zl - Awww, t...</td>\n",
       "      <td>0</td>\n",
       "      <td>awww thats bummer you shoulda got david carr t...</td>\n",
       "    </tr>\n",
       "    <tr>\n",
       "      <th>1</th>\n",
       "      <td>is upset that he can't update his Facebook by ...</td>\n",
       "      <td>0</td>\n",
       "      <td>upset cant update facebook texting might cry r...</td>\n",
       "    </tr>\n",
       "    <tr>\n",
       "      <th>2</th>\n",
       "      <td>@Kenichan I dived many times for the ball. Man...</td>\n",
       "      <td>0</td>\n",
       "      <td>i dived many times ball managed save the rest ...</td>\n",
       "    </tr>\n",
       "    <tr>\n",
       "      <th>3</th>\n",
       "      <td>my whole body feels itchy and like its on fire</td>\n",
       "      <td>0</td>\n",
       "      <td>whole body feels itchy like fire</td>\n",
       "    </tr>\n",
       "    <tr>\n",
       "      <th>4</th>\n",
       "      <td>@nationwideclass no, it's not behaving at all....</td>\n",
       "      <td>0</td>\n",
       "      <td>no not behaving im mad i cant see</td>\n",
       "    </tr>\n",
       "    <tr>\n",
       "      <th>...</th>\n",
       "      <td>...</td>\n",
       "      <td>...</td>\n",
       "      <td>...</td>\n",
       "    </tr>\n",
       "    <tr>\n",
       "      <th>1599995</th>\n",
       "      <td>Just woke up. Having no school is the best fee...</td>\n",
       "      <td>4</td>\n",
       "      <td>just woke having no school best feeling ever</td>\n",
       "    </tr>\n",
       "    <tr>\n",
       "      <th>1599996</th>\n",
       "      <td>TheWDB.com - Very cool to hear old Walt interv...</td>\n",
       "      <td>4</td>\n",
       "      <td>thewdbcom very cool hear old walt interviews â</td>\n",
       "    </tr>\n",
       "    <tr>\n",
       "      <th>1599997</th>\n",
       "      <td>Are you ready for your MoJo Makeover? Ask me f...</td>\n",
       "      <td>4</td>\n",
       "      <td>are ready mojo makeover ask details</td>\n",
       "    </tr>\n",
       "    <tr>\n",
       "      <th>1599998</th>\n",
       "      <td>Happy 38th Birthday to my boo of alll time!!! ...</td>\n",
       "      <td>4</td>\n",
       "      <td>happy th birthday boo alll time tupac amaru sh...</td>\n",
       "    </tr>\n",
       "    <tr>\n",
       "      <th>1599999</th>\n",
       "      <td>happy #charitytuesday @theNSPCC @SparksCharity...</td>\n",
       "      <td>4</td>\n",
       "      <td>happy</td>\n",
       "    </tr>\n",
       "  </tbody>\n",
       "</table>\n",
       "<p>1600000 rows × 3 columns</p>\n",
       "</div>"
      ],
      "text/plain": [
       "                                                     tweet  sentiment  \\\n",
       "0        @switchfoot http://twitpic.com/2y1zl - Awww, t...          0   \n",
       "1        is upset that he can't update his Facebook by ...          0   \n",
       "2        @Kenichan I dived many times for the ball. Man...          0   \n",
       "3          my whole body feels itchy and like its on fire           0   \n",
       "4        @nationwideclass no, it's not behaving at all....          0   \n",
       "...                                                    ...        ...   \n",
       "1599995  Just woke up. Having no school is the best fee...          4   \n",
       "1599996  TheWDB.com - Very cool to hear old Walt interv...          4   \n",
       "1599997  Are you ready for your MoJo Makeover? Ask me f...          4   \n",
       "1599998  Happy 38th Birthday to my boo of alll time!!! ...          4   \n",
       "1599999  happy #charitytuesday @theNSPCC @SparksCharity...          4   \n",
       "\n",
       "                                             tweet_cleaned  \n",
       "0        awww thats bummer you shoulda got david carr t...  \n",
       "1        upset cant update facebook texting might cry r...  \n",
       "2        i dived many times ball managed save the rest ...  \n",
       "3                         whole body feels itchy like fire  \n",
       "4                        no not behaving im mad i cant see  \n",
       "...                                                    ...  \n",
       "1599995       just woke having no school best feeling ever  \n",
       "1599996     thewdbcom very cool hear old walt interviews â  \n",
       "1599997                are ready mojo makeover ask details  \n",
       "1599998  happy th birthday boo alll time tupac amaru sh...  \n",
       "1599999                                              happy  \n",
       "\n",
       "[1600000 rows x 3 columns]"
      ]
     },
     "execution_count": 56,
     "metadata": {},
     "output_type": "execute_result"
    }
   ],
   "source": [
    "df_cleaned['tweet_cleaned']=df_cleaned['tweet'].apply(lambda tweet:cleanse_tweet(tweet))\n",
    "df_cleaned"
   ]
  },
  {
   "cell_type": "markdown",
   "metadata": {},
   "source": [
    "#### Tokenizing tweets"
   ]
  },
  {
   "cell_type": "code",
   "execution_count": 57,
   "metadata": {},
   "outputs": [],
   "source": [
    "df_cleaned['tweet_tokenized']=df_cleaned['tweet_cleaned'].apply(lambda tweet:word_tokenize(tweet))"
   ]
  },
  {
   "cell_type": "code",
   "execution_count": 58,
   "metadata": {},
   "outputs": [
    {
     "data": {
      "text/html": [
       "<div>\n",
       "<style scoped>\n",
       "    .dataframe tbody tr th:only-of-type {\n",
       "        vertical-align: middle;\n",
       "    }\n",
       "\n",
       "    .dataframe tbody tr th {\n",
       "        vertical-align: top;\n",
       "    }\n",
       "\n",
       "    .dataframe thead th {\n",
       "        text-align: right;\n",
       "    }\n",
       "</style>\n",
       "<table border=\"1\" class=\"dataframe\">\n",
       "  <thead>\n",
       "    <tr style=\"text-align: right;\">\n",
       "      <th></th>\n",
       "      <th>tweet</th>\n",
       "      <th>sentiment</th>\n",
       "      <th>tweet_cleaned</th>\n",
       "      <th>tweet_tokenized</th>\n",
       "    </tr>\n",
       "  </thead>\n",
       "  <tbody>\n",
       "    <tr>\n",
       "      <th>0</th>\n",
       "      <td>@switchfoot http://twitpic.com/2y1zl - Awww, t...</td>\n",
       "      <td>0</td>\n",
       "      <td>awww thats bummer you shoulda got david carr t...</td>\n",
       "      <td>[awww, thats, bummer, you, shoulda, got, david...</td>\n",
       "    </tr>\n",
       "    <tr>\n",
       "      <th>1</th>\n",
       "      <td>is upset that he can't update his Facebook by ...</td>\n",
       "      <td>0</td>\n",
       "      <td>upset cant update facebook texting might cry r...</td>\n",
       "      <td>[upset, cant, update, facebook, texting, might...</td>\n",
       "    </tr>\n",
       "    <tr>\n",
       "      <th>2</th>\n",
       "      <td>@Kenichan I dived many times for the ball. Man...</td>\n",
       "      <td>0</td>\n",
       "      <td>i dived many times ball managed save the rest ...</td>\n",
       "      <td>[i, dived, many, times, ball, managed, save, t...</td>\n",
       "    </tr>\n",
       "    <tr>\n",
       "      <th>3</th>\n",
       "      <td>my whole body feels itchy and like its on fire</td>\n",
       "      <td>0</td>\n",
       "      <td>whole body feels itchy like fire</td>\n",
       "      <td>[whole, body, feels, itchy, like, fire]</td>\n",
       "    </tr>\n",
       "    <tr>\n",
       "      <th>4</th>\n",
       "      <td>@nationwideclass no, it's not behaving at all....</td>\n",
       "      <td>0</td>\n",
       "      <td>no not behaving im mad i cant see</td>\n",
       "      <td>[no, not, behaving, im, mad, i, cant, see]</td>\n",
       "    </tr>\n",
       "    <tr>\n",
       "      <th>...</th>\n",
       "      <td>...</td>\n",
       "      <td>...</td>\n",
       "      <td>...</td>\n",
       "      <td>...</td>\n",
       "    </tr>\n",
       "    <tr>\n",
       "      <th>1599995</th>\n",
       "      <td>Just woke up. Having no school is the best fee...</td>\n",
       "      <td>4</td>\n",
       "      <td>just woke having no school best feeling ever</td>\n",
       "      <td>[just, woke, having, no, school, best, feeling...</td>\n",
       "    </tr>\n",
       "    <tr>\n",
       "      <th>1599996</th>\n",
       "      <td>TheWDB.com - Very cool to hear old Walt interv...</td>\n",
       "      <td>4</td>\n",
       "      <td>thewdbcom very cool hear old walt interviews â</td>\n",
       "      <td>[thewdbcom, very, cool, hear, old, walt, inter...</td>\n",
       "    </tr>\n",
       "    <tr>\n",
       "      <th>1599997</th>\n",
       "      <td>Are you ready for your MoJo Makeover? Ask me f...</td>\n",
       "      <td>4</td>\n",
       "      <td>are ready mojo makeover ask details</td>\n",
       "      <td>[are, ready, mojo, makeover, ask, details]</td>\n",
       "    </tr>\n",
       "    <tr>\n",
       "      <th>1599998</th>\n",
       "      <td>Happy 38th Birthday to my boo of alll time!!! ...</td>\n",
       "      <td>4</td>\n",
       "      <td>happy th birthday boo alll time tupac amaru sh...</td>\n",
       "      <td>[happy, th, birthday, boo, alll, time, tupac, ...</td>\n",
       "    </tr>\n",
       "    <tr>\n",
       "      <th>1599999</th>\n",
       "      <td>happy #charitytuesday @theNSPCC @SparksCharity...</td>\n",
       "      <td>4</td>\n",
       "      <td>happy</td>\n",
       "      <td>[happy]</td>\n",
       "    </tr>\n",
       "  </tbody>\n",
       "</table>\n",
       "<p>1600000 rows × 4 columns</p>\n",
       "</div>"
      ],
      "text/plain": [
       "                                                     tweet  sentiment  \\\n",
       "0        @switchfoot http://twitpic.com/2y1zl - Awww, t...          0   \n",
       "1        is upset that he can't update his Facebook by ...          0   \n",
       "2        @Kenichan I dived many times for the ball. Man...          0   \n",
       "3          my whole body feels itchy and like its on fire           0   \n",
       "4        @nationwideclass no, it's not behaving at all....          0   \n",
       "...                                                    ...        ...   \n",
       "1599995  Just woke up. Having no school is the best fee...          4   \n",
       "1599996  TheWDB.com - Very cool to hear old Walt interv...          4   \n",
       "1599997  Are you ready for your MoJo Makeover? Ask me f...          4   \n",
       "1599998  Happy 38th Birthday to my boo of alll time!!! ...          4   \n",
       "1599999  happy #charitytuesday @theNSPCC @SparksCharity...          4   \n",
       "\n",
       "                                             tweet_cleaned  \\\n",
       "0        awww thats bummer you shoulda got david carr t...   \n",
       "1        upset cant update facebook texting might cry r...   \n",
       "2        i dived many times ball managed save the rest ...   \n",
       "3                         whole body feels itchy like fire   \n",
       "4                        no not behaving im mad i cant see   \n",
       "...                                                    ...   \n",
       "1599995       just woke having no school best feeling ever   \n",
       "1599996     thewdbcom very cool hear old walt interviews â   \n",
       "1599997                are ready mojo makeover ask details   \n",
       "1599998  happy th birthday boo alll time tupac amaru sh...   \n",
       "1599999                                              happy   \n",
       "\n",
       "                                           tweet_tokenized  \n",
       "0        [awww, thats, bummer, you, shoulda, got, david...  \n",
       "1        [upset, cant, update, facebook, texting, might...  \n",
       "2        [i, dived, many, times, ball, managed, save, t...  \n",
       "3                  [whole, body, feels, itchy, like, fire]  \n",
       "4               [no, not, behaving, im, mad, i, cant, see]  \n",
       "...                                                    ...  \n",
       "1599995  [just, woke, having, no, school, best, feeling...  \n",
       "1599996  [thewdbcom, very, cool, hear, old, walt, inter...  \n",
       "1599997         [are, ready, mojo, makeover, ask, details]  \n",
       "1599998  [happy, th, birthday, boo, alll, time, tupac, ...  \n",
       "1599999                                            [happy]  \n",
       "\n",
       "[1600000 rows x 4 columns]"
      ]
     },
     "execution_count": 58,
     "metadata": {},
     "output_type": "execute_result"
    }
   ],
   "source": [
    "df_cleaned"
   ]
  },
  {
   "cell_type": "markdown",
   "metadata": {},
   "source": [
    "#### Stemming tweets"
   ]
  },
  {
   "cell_type": "code",
   "execution_count": 59,
   "metadata": {},
   "outputs": [],
   "source": [
    "def tweet_stemming(tweet):\n",
    "     return [SnowballStemmer('english').stem(word) for word in tweet]"
   ]
  },
  {
   "cell_type": "code",
   "execution_count": 60,
   "metadata": {},
   "outputs": [],
   "source": [
    "df_cleaned['tweet_stem']=df_cleaned['tweet_tokenized'].apply(lambda tweet:tweet_stemming(tweet))"
   ]
  },
  {
   "cell_type": "code",
   "execution_count": 61,
   "metadata": {},
   "outputs": [
    {
     "data": {
      "text/html": [
       "<div>\n",
       "<style scoped>\n",
       "    .dataframe tbody tr th:only-of-type {\n",
       "        vertical-align: middle;\n",
       "    }\n",
       "\n",
       "    .dataframe tbody tr th {\n",
       "        vertical-align: top;\n",
       "    }\n",
       "\n",
       "    .dataframe thead th {\n",
       "        text-align: right;\n",
       "    }\n",
       "</style>\n",
       "<table border=\"1\" class=\"dataframe\">\n",
       "  <thead>\n",
       "    <tr style=\"text-align: right;\">\n",
       "      <th></th>\n",
       "      <th>tweet</th>\n",
       "      <th>sentiment</th>\n",
       "      <th>tweet_cleaned</th>\n",
       "      <th>tweet_tokenized</th>\n",
       "      <th>tweet_stem</th>\n",
       "    </tr>\n",
       "  </thead>\n",
       "  <tbody>\n",
       "    <tr>\n",
       "      <th>0</th>\n",
       "      <td>@switchfoot http://twitpic.com/2y1zl - Awww, t...</td>\n",
       "      <td>0</td>\n",
       "      <td>awww thats bummer you shoulda got david carr t...</td>\n",
       "      <td>[awww, thats, bummer, you, shoulda, got, david...</td>\n",
       "      <td>[awww, that, bummer, you, shoulda, got, david,...</td>\n",
       "    </tr>\n",
       "    <tr>\n",
       "      <th>1</th>\n",
       "      <td>is upset that he can't update his Facebook by ...</td>\n",
       "      <td>0</td>\n",
       "      <td>upset cant update facebook texting might cry r...</td>\n",
       "      <td>[upset, cant, update, facebook, texting, might...</td>\n",
       "      <td>[upset, cant, updat, facebook, text, might, cr...</td>\n",
       "    </tr>\n",
       "    <tr>\n",
       "      <th>2</th>\n",
       "      <td>@Kenichan I dived many times for the ball. Man...</td>\n",
       "      <td>0</td>\n",
       "      <td>i dived many times ball managed save the rest ...</td>\n",
       "      <td>[i, dived, many, times, ball, managed, save, t...</td>\n",
       "      <td>[i, dive, mani, time, ball, manag, save, the, ...</td>\n",
       "    </tr>\n",
       "    <tr>\n",
       "      <th>3</th>\n",
       "      <td>my whole body feels itchy and like its on fire</td>\n",
       "      <td>0</td>\n",
       "      <td>whole body feels itchy like fire</td>\n",
       "      <td>[whole, body, feels, itchy, like, fire]</td>\n",
       "      <td>[whole, bodi, feel, itchi, like, fire]</td>\n",
       "    </tr>\n",
       "    <tr>\n",
       "      <th>4</th>\n",
       "      <td>@nationwideclass no, it's not behaving at all....</td>\n",
       "      <td>0</td>\n",
       "      <td>no not behaving im mad i cant see</td>\n",
       "      <td>[no, not, behaving, im, mad, i, cant, see]</td>\n",
       "      <td>[no, not, behav, im, mad, i, cant, see]</td>\n",
       "    </tr>\n",
       "    <tr>\n",
       "      <th>...</th>\n",
       "      <td>...</td>\n",
       "      <td>...</td>\n",
       "      <td>...</td>\n",
       "      <td>...</td>\n",
       "      <td>...</td>\n",
       "    </tr>\n",
       "    <tr>\n",
       "      <th>1599995</th>\n",
       "      <td>Just woke up. Having no school is the best fee...</td>\n",
       "      <td>4</td>\n",
       "      <td>just woke having no school best feeling ever</td>\n",
       "      <td>[just, woke, having, no, school, best, feeling...</td>\n",
       "      <td>[just, woke, have, no, school, best, feel, ever]</td>\n",
       "    </tr>\n",
       "    <tr>\n",
       "      <th>1599996</th>\n",
       "      <td>TheWDB.com - Very cool to hear old Walt interv...</td>\n",
       "      <td>4</td>\n",
       "      <td>thewdbcom very cool hear old walt interviews â</td>\n",
       "      <td>[thewdbcom, very, cool, hear, old, walt, inter...</td>\n",
       "      <td>[thewdbcom, veri, cool, hear, old, walt, inter...</td>\n",
       "    </tr>\n",
       "    <tr>\n",
       "      <th>1599997</th>\n",
       "      <td>Are you ready for your MoJo Makeover? Ask me f...</td>\n",
       "      <td>4</td>\n",
       "      <td>are ready mojo makeover ask details</td>\n",
       "      <td>[are, ready, mojo, makeover, ask, details]</td>\n",
       "      <td>[are, readi, mojo, makeov, ask, detail]</td>\n",
       "    </tr>\n",
       "    <tr>\n",
       "      <th>1599998</th>\n",
       "      <td>Happy 38th Birthday to my boo of alll time!!! ...</td>\n",
       "      <td>4</td>\n",
       "      <td>happy th birthday boo alll time tupac amaru sh...</td>\n",
       "      <td>[happy, th, birthday, boo, alll, time, tupac, ...</td>\n",
       "      <td>[happi, th, birthday, boo, alll, time, tupac, ...</td>\n",
       "    </tr>\n",
       "    <tr>\n",
       "      <th>1599999</th>\n",
       "      <td>happy #charitytuesday @theNSPCC @SparksCharity...</td>\n",
       "      <td>4</td>\n",
       "      <td>happy</td>\n",
       "      <td>[happy]</td>\n",
       "      <td>[happi]</td>\n",
       "    </tr>\n",
       "  </tbody>\n",
       "</table>\n",
       "<p>1600000 rows × 5 columns</p>\n",
       "</div>"
      ],
      "text/plain": [
       "                                                     tweet  sentiment  \\\n",
       "0        @switchfoot http://twitpic.com/2y1zl - Awww, t...          0   \n",
       "1        is upset that he can't update his Facebook by ...          0   \n",
       "2        @Kenichan I dived many times for the ball. Man...          0   \n",
       "3          my whole body feels itchy and like its on fire           0   \n",
       "4        @nationwideclass no, it's not behaving at all....          0   \n",
       "...                                                    ...        ...   \n",
       "1599995  Just woke up. Having no school is the best fee...          4   \n",
       "1599996  TheWDB.com - Very cool to hear old Walt interv...          4   \n",
       "1599997  Are you ready for your MoJo Makeover? Ask me f...          4   \n",
       "1599998  Happy 38th Birthday to my boo of alll time!!! ...          4   \n",
       "1599999  happy #charitytuesday @theNSPCC @SparksCharity...          4   \n",
       "\n",
       "                                             tweet_cleaned  \\\n",
       "0        awww thats bummer you shoulda got david carr t...   \n",
       "1        upset cant update facebook texting might cry r...   \n",
       "2        i dived many times ball managed save the rest ...   \n",
       "3                         whole body feels itchy like fire   \n",
       "4                        no not behaving im mad i cant see   \n",
       "...                                                    ...   \n",
       "1599995       just woke having no school best feeling ever   \n",
       "1599996     thewdbcom very cool hear old walt interviews â   \n",
       "1599997                are ready mojo makeover ask details   \n",
       "1599998  happy th birthday boo alll time tupac amaru sh...   \n",
       "1599999                                              happy   \n",
       "\n",
       "                                           tweet_tokenized  \\\n",
       "0        [awww, thats, bummer, you, shoulda, got, david...   \n",
       "1        [upset, cant, update, facebook, texting, might...   \n",
       "2        [i, dived, many, times, ball, managed, save, t...   \n",
       "3                  [whole, body, feels, itchy, like, fire]   \n",
       "4               [no, not, behaving, im, mad, i, cant, see]   \n",
       "...                                                    ...   \n",
       "1599995  [just, woke, having, no, school, best, feeling...   \n",
       "1599996  [thewdbcom, very, cool, hear, old, walt, inter...   \n",
       "1599997         [are, ready, mojo, makeover, ask, details]   \n",
       "1599998  [happy, th, birthday, boo, alll, time, tupac, ...   \n",
       "1599999                                            [happy]   \n",
       "\n",
       "                                                tweet_stem  \n",
       "0        [awww, that, bummer, you, shoulda, got, david,...  \n",
       "1        [upset, cant, updat, facebook, text, might, cr...  \n",
       "2        [i, dive, mani, time, ball, manag, save, the, ...  \n",
       "3                   [whole, bodi, feel, itchi, like, fire]  \n",
       "4                  [no, not, behav, im, mad, i, cant, see]  \n",
       "...                                                    ...  \n",
       "1599995   [just, woke, have, no, school, best, feel, ever]  \n",
       "1599996  [thewdbcom, veri, cool, hear, old, walt, inter...  \n",
       "1599997            [are, readi, mojo, makeov, ask, detail]  \n",
       "1599998  [happi, th, birthday, boo, alll, time, tupac, ...  \n",
       "1599999                                            [happi]  \n",
       "\n",
       "[1600000 rows x 5 columns]"
      ]
     },
     "execution_count": 61,
     "metadata": {},
     "output_type": "execute_result"
    }
   ],
   "source": [
    "df_cleaned"
   ]
  },
  {
   "cell_type": "markdown",
   "metadata": {},
   "source": [
    "#### Lemmatizing tweets"
   ]
  },
  {
   "cell_type": "code",
   "execution_count": 62,
   "metadata": {},
   "outputs": [],
   "source": [
    "def tweet_lemmatize(tweet):\n",
    "    return ' '.join(WordNetLemmatizer().lemmatize(word) for word in tweet)"
   ]
  },
  {
   "cell_type": "code",
   "execution_count": 63,
   "metadata": {},
   "outputs": [],
   "source": [
    "df_cleaned['tweet_lemma']=df_cleaned['tweet_stem'].apply(lambda tweet:tweet_lemmatize(tweet))"
   ]
  },
  {
   "cell_type": "code",
   "execution_count": 64,
   "metadata": {},
   "outputs": [
    {
     "data": {
      "text/html": [
       "<div>\n",
       "<style scoped>\n",
       "    .dataframe tbody tr th:only-of-type {\n",
       "        vertical-align: middle;\n",
       "    }\n",
       "\n",
       "    .dataframe tbody tr th {\n",
       "        vertical-align: top;\n",
       "    }\n",
       "\n",
       "    .dataframe thead th {\n",
       "        text-align: right;\n",
       "    }\n",
       "</style>\n",
       "<table border=\"1\" class=\"dataframe\">\n",
       "  <thead>\n",
       "    <tr style=\"text-align: right;\">\n",
       "      <th></th>\n",
       "      <th>tweet</th>\n",
       "      <th>sentiment</th>\n",
       "      <th>tweet_cleaned</th>\n",
       "      <th>tweet_tokenized</th>\n",
       "      <th>tweet_stem</th>\n",
       "      <th>tweet_lemma</th>\n",
       "    </tr>\n",
       "  </thead>\n",
       "  <tbody>\n",
       "    <tr>\n",
       "      <th>0</th>\n",
       "      <td>@switchfoot http://twitpic.com/2y1zl - Awww, t...</td>\n",
       "      <td>0</td>\n",
       "      <td>awww thats bummer you shoulda got david carr t...</td>\n",
       "      <td>[awww, thats, bummer, you, shoulda, got, david...</td>\n",
       "      <td>[awww, that, bummer, you, shoulda, got, david,...</td>\n",
       "      <td>awww that bummer you shoulda got david carr th...</td>\n",
       "    </tr>\n",
       "    <tr>\n",
       "      <th>1</th>\n",
       "      <td>is upset that he can't update his Facebook by ...</td>\n",
       "      <td>0</td>\n",
       "      <td>upset cant update facebook texting might cry r...</td>\n",
       "      <td>[upset, cant, update, facebook, texting, might...</td>\n",
       "      <td>[upset, cant, updat, facebook, text, might, cr...</td>\n",
       "      <td>upset cant updat facebook text might cri resul...</td>\n",
       "    </tr>\n",
       "    <tr>\n",
       "      <th>2</th>\n",
       "      <td>@Kenichan I dived many times for the ball. Man...</td>\n",
       "      <td>0</td>\n",
       "      <td>i dived many times ball managed save the rest ...</td>\n",
       "      <td>[i, dived, many, times, ball, managed, save, t...</td>\n",
       "      <td>[i, dive, mani, time, ball, manag, save, the, ...</td>\n",
       "      <td>i dive mani time ball manag save the rest go b...</td>\n",
       "    </tr>\n",
       "    <tr>\n",
       "      <th>3</th>\n",
       "      <td>my whole body feels itchy and like its on fire</td>\n",
       "      <td>0</td>\n",
       "      <td>whole body feels itchy like fire</td>\n",
       "      <td>[whole, body, feels, itchy, like, fire]</td>\n",
       "      <td>[whole, bodi, feel, itchi, like, fire]</td>\n",
       "      <td>whole bodi feel itchi like fire</td>\n",
       "    </tr>\n",
       "    <tr>\n",
       "      <th>4</th>\n",
       "      <td>@nationwideclass no, it's not behaving at all....</td>\n",
       "      <td>0</td>\n",
       "      <td>no not behaving im mad i cant see</td>\n",
       "      <td>[no, not, behaving, im, mad, i, cant, see]</td>\n",
       "      <td>[no, not, behav, im, mad, i, cant, see]</td>\n",
       "      <td>no not behav im mad i cant see</td>\n",
       "    </tr>\n",
       "    <tr>\n",
       "      <th>...</th>\n",
       "      <td>...</td>\n",
       "      <td>...</td>\n",
       "      <td>...</td>\n",
       "      <td>...</td>\n",
       "      <td>...</td>\n",
       "      <td>...</td>\n",
       "    </tr>\n",
       "    <tr>\n",
       "      <th>1599995</th>\n",
       "      <td>Just woke up. Having no school is the best fee...</td>\n",
       "      <td>4</td>\n",
       "      <td>just woke having no school best feeling ever</td>\n",
       "      <td>[just, woke, having, no, school, best, feeling...</td>\n",
       "      <td>[just, woke, have, no, school, best, feel, ever]</td>\n",
       "      <td>just woke have no school best feel ever</td>\n",
       "    </tr>\n",
       "    <tr>\n",
       "      <th>1599996</th>\n",
       "      <td>TheWDB.com - Very cool to hear old Walt interv...</td>\n",
       "      <td>4</td>\n",
       "      <td>thewdbcom very cool hear old walt interviews â</td>\n",
       "      <td>[thewdbcom, very, cool, hear, old, walt, inter...</td>\n",
       "      <td>[thewdbcom, veri, cool, hear, old, walt, inter...</td>\n",
       "      <td>thewdbcom veri cool hear old walt interview â</td>\n",
       "    </tr>\n",
       "    <tr>\n",
       "      <th>1599997</th>\n",
       "      <td>Are you ready for your MoJo Makeover? Ask me f...</td>\n",
       "      <td>4</td>\n",
       "      <td>are ready mojo makeover ask details</td>\n",
       "      <td>[are, ready, mojo, makeover, ask, details]</td>\n",
       "      <td>[are, readi, mojo, makeov, ask, detail]</td>\n",
       "      <td>are readi mojo makeov ask detail</td>\n",
       "    </tr>\n",
       "    <tr>\n",
       "      <th>1599998</th>\n",
       "      <td>Happy 38th Birthday to my boo of alll time!!! ...</td>\n",
       "      <td>4</td>\n",
       "      <td>happy th birthday boo alll time tupac amaru sh...</td>\n",
       "      <td>[happy, th, birthday, boo, alll, time, tupac, ...</td>\n",
       "      <td>[happi, th, birthday, boo, alll, time, tupac, ...</td>\n",
       "      <td>happi th birthday boo alll time tupac amaru sh...</td>\n",
       "    </tr>\n",
       "    <tr>\n",
       "      <th>1599999</th>\n",
       "      <td>happy #charitytuesday @theNSPCC @SparksCharity...</td>\n",
       "      <td>4</td>\n",
       "      <td>happy</td>\n",
       "      <td>[happy]</td>\n",
       "      <td>[happi]</td>\n",
       "      <td>happi</td>\n",
       "    </tr>\n",
       "  </tbody>\n",
       "</table>\n",
       "<p>1600000 rows × 6 columns</p>\n",
       "</div>"
      ],
      "text/plain": [
       "                                                     tweet  sentiment  \\\n",
       "0        @switchfoot http://twitpic.com/2y1zl - Awww, t...          0   \n",
       "1        is upset that he can't update his Facebook by ...          0   \n",
       "2        @Kenichan I dived many times for the ball. Man...          0   \n",
       "3          my whole body feels itchy and like its on fire           0   \n",
       "4        @nationwideclass no, it's not behaving at all....          0   \n",
       "...                                                    ...        ...   \n",
       "1599995  Just woke up. Having no school is the best fee...          4   \n",
       "1599996  TheWDB.com - Very cool to hear old Walt interv...          4   \n",
       "1599997  Are you ready for your MoJo Makeover? Ask me f...          4   \n",
       "1599998  Happy 38th Birthday to my boo of alll time!!! ...          4   \n",
       "1599999  happy #charitytuesday @theNSPCC @SparksCharity...          4   \n",
       "\n",
       "                                             tweet_cleaned  \\\n",
       "0        awww thats bummer you shoulda got david carr t...   \n",
       "1        upset cant update facebook texting might cry r...   \n",
       "2        i dived many times ball managed save the rest ...   \n",
       "3                         whole body feels itchy like fire   \n",
       "4                        no not behaving im mad i cant see   \n",
       "...                                                    ...   \n",
       "1599995       just woke having no school best feeling ever   \n",
       "1599996     thewdbcom very cool hear old walt interviews â   \n",
       "1599997                are ready mojo makeover ask details   \n",
       "1599998  happy th birthday boo alll time tupac amaru sh...   \n",
       "1599999                                              happy   \n",
       "\n",
       "                                           tweet_tokenized  \\\n",
       "0        [awww, thats, bummer, you, shoulda, got, david...   \n",
       "1        [upset, cant, update, facebook, texting, might...   \n",
       "2        [i, dived, many, times, ball, managed, save, t...   \n",
       "3                  [whole, body, feels, itchy, like, fire]   \n",
       "4               [no, not, behaving, im, mad, i, cant, see]   \n",
       "...                                                    ...   \n",
       "1599995  [just, woke, having, no, school, best, feeling...   \n",
       "1599996  [thewdbcom, very, cool, hear, old, walt, inter...   \n",
       "1599997         [are, ready, mojo, makeover, ask, details]   \n",
       "1599998  [happy, th, birthday, boo, alll, time, tupac, ...   \n",
       "1599999                                            [happy]   \n",
       "\n",
       "                                                tweet_stem  \\\n",
       "0        [awww, that, bummer, you, shoulda, got, david,...   \n",
       "1        [upset, cant, updat, facebook, text, might, cr...   \n",
       "2        [i, dive, mani, time, ball, manag, save, the, ...   \n",
       "3                   [whole, bodi, feel, itchi, like, fire]   \n",
       "4                  [no, not, behav, im, mad, i, cant, see]   \n",
       "...                                                    ...   \n",
       "1599995   [just, woke, have, no, school, best, feel, ever]   \n",
       "1599996  [thewdbcom, veri, cool, hear, old, walt, inter...   \n",
       "1599997            [are, readi, mojo, makeov, ask, detail]   \n",
       "1599998  [happi, th, birthday, boo, alll, time, tupac, ...   \n",
       "1599999                                            [happi]   \n",
       "\n",
       "                                               tweet_lemma  \n",
       "0        awww that bummer you shoulda got david carr th...  \n",
       "1        upset cant updat facebook text might cri resul...  \n",
       "2        i dive mani time ball manag save the rest go b...  \n",
       "3                          whole bodi feel itchi like fire  \n",
       "4                           no not behav im mad i cant see  \n",
       "...                                                    ...  \n",
       "1599995            just woke have no school best feel ever  \n",
       "1599996      thewdbcom veri cool hear old walt interview â  \n",
       "1599997                   are readi mojo makeov ask detail  \n",
       "1599998  happi th birthday boo alll time tupac amaru sh...  \n",
       "1599999                                              happi  \n",
       "\n",
       "[1600000 rows x 6 columns]"
      ]
     },
     "execution_count": 64,
     "metadata": {},
     "output_type": "execute_result"
    }
   ],
   "source": [
    "df_cleaned"
   ]
  },
  {
   "cell_type": "code",
   "execution_count": 65,
   "metadata": {},
   "outputs": [],
   "source": [
    "### Split into test and train"
   ]
  },
  {
   "cell_type": "code",
   "execution_count": 91,
   "metadata": {},
   "outputs": [
    {
     "data": {
      "text/plain": [
       "0          0\n",
       "1          0\n",
       "2          0\n",
       "3          0\n",
       "4          0\n",
       "          ..\n",
       "1599995    1\n",
       "1599996    1\n",
       "1599997    1\n",
       "1599998    1\n",
       "1599999    1\n",
       "Name: sentiment, Length: 1600000, dtype: int64"
      ]
     },
     "execution_count": 91,
     "metadata": {},
     "output_type": "execute_result"
    }
   ],
   "source": [
    "y=df_cleaned['sentiment'].apply(lambda x:1 if x==4 else x)\n",
    "y"
   ]
  },
  {
   "cell_type": "code",
   "execution_count": 92,
   "metadata": {},
   "outputs": [],
   "source": [
    "X_train,X_test,y_train,y_test=train_test_split(X,y,test_size=0.3,random_state=40)"
   ]
  },
  {
   "cell_type": "markdown",
   "metadata": {},
   "source": [
    "#### Tweet Vectorization"
   ]
  },
  {
   "cell_type": "code",
   "execution_count": 93,
   "metadata": {},
   "outputs": [
    {
     "data": {
      "text/plain": [
       "TfidfVectorizer(max_features=500000, ngram_range=(1, 2))"
      ]
     },
     "execution_count": 93,
     "metadata": {},
     "output_type": "execute_result"
    }
   ],
   "source": [
    "vectorizer=TfidfVectorizer(ngram_range=(1,2),max_features=500000)\n",
    "vectorizer.fit(X_train)\n"
   ]
  },
  {
   "cell_type": "code",
   "execution_count": 94,
   "metadata": {},
   "outputs": [],
   "source": [
    "X_train=vectorizer.transform(X_train)\n",
    "X_test=vectorizer.transform(X_test)"
   ]
  },
  {
   "cell_type": "code",
   "execution_count": 95,
   "metadata": {},
   "outputs": [
    {
     "data": {
      "text/plain": [
       "<1120000x500000 sparse matrix of type '<class 'numpy.float64'>'\n",
       "\twith 22236710 stored elements in Compressed Sparse Row format>"
      ]
     },
     "execution_count": 95,
     "metadata": {},
     "output_type": "execute_result"
    }
   ],
   "source": [
    "X_train"
   ]
  },
  {
   "cell_type": "markdown",
   "metadata": {},
   "source": [
    "### Train, Predict and model Matrixes"
   ]
  },
  {
   "cell_type": "code",
   "execution_count": 96,
   "metadata": {},
   "outputs": [],
   "source": [
    "#generic function to train and test model, display confusion matrix, ROC curve\n",
    "def model_fit(model):\n",
    "    model.fit(X_train,y_train)\n",
    "    return model\n",
    "    \n",
    "def model_predict(model):\n",
    "    y_pred=model.predict(X_test)\n",
    "    return y_pred\n",
    "    \n",
    "def model_evaluate(model,y_test,y_pred):\n",
    "    print(f'accuracy score: {accuracy_score(y_test,y_pred)}')\n",
    "    print(classification_report(y_test,y_pred))\n",
    "    conf_matrix=confusion_matrix(y_test,y_pred)\n",
    "    print(f'confusion_matrix\\n')\n",
    "    print(f'True Negetives : {conf_matrix[0][0]}')\n",
    "    print(f'False Negetive : {conf_matrix[0][1]}')\n",
    "    print(f'False Positive : {conf_matrix[1][0]}')\n",
    "    print(f'True Positive : {conf_matrix[1][1]}')\n",
    "    \n",
    "   \n",
    "    fpr,tpr,thresholds=roc_curve(y_test,y_pred)\n",
    "    auc_roc=auc(fpr,tpr)\n",
    "    fig,ax=plt.subplots(1,2,figsize=(10,5))\n",
    "    fig.tight_layout(pad=6)\n",
    "    ax[0].plot(fpr,tpr,color='green',label='ROC Curve(area under curve : %0.00f)'% auc_roc)\n",
    "    \n",
    "    ax[0].set(title='ROC Curve',xlabel='False Positive Rate',ylabel='True Positive Rate')\n",
    "    ax[0].grid(True)\n",
    "    ax[1]=sns.heatmap(conf_matrix,cmap='Blues')\n",
    "    ax[1].set(title='Confusion Matrix',ylabel='Actual Values',xlabel='Predicted Values')\n",
    "    #plt.show();\n",
    "    end_time=datetime.now()\n",
    "    print(f'total time taken(minutes) :{((end_time-start_time).total_seconds())/60}')\n",
    "    "
   ]
  },
  {
   "cell_type": "markdown",
   "metadata": {},
   "source": [
    "#### Logistic Regression Model"
   ]
  },
  {
   "cell_type": "code",
   "execution_count": 99,
   "metadata": {},
   "outputs": [
    {
     "name": "stdout",
     "output_type": "stream",
     "text": [
      "accuracy score: 0.82413125\n",
      "              precision    recall  f1-score   support\n",
      "\n",
      "           0       0.83      0.82      0.82    239943\n",
      "           1       0.82      0.83      0.83    240057\n",
      "\n",
      "    accuracy                           0.82    480000\n",
      "   macro avg       0.82      0.82      0.82    480000\n",
      "weighted avg       0.82      0.82      0.82    480000\n",
      "\n",
      "confusion_matrix\n",
      "\n",
      "True Negetives : 196004\n",
      "False Negetive : 43939\n",
      "False Positive : 40478\n",
      "True Positive : 199579\n",
      "total time taken(minutes) :0.9355279\n"
     ]
    },
    {
     "data": {
      "image/png": "[encoded data removed]",
      "text/plain": [
       "<Figure size 720x360 with 3 Axes>"
      ]
     },
     "metadata": {
      "needs_background": "light"
     },
     "output_type": "display_data"
    }
   ],
   "source": [
    "lrmodel=LogisticRegression()\n",
    "start_time=datetime.now()\n",
    "fitted_model=model_fit(lrmodel)\n",
    "y_pred=model_predict(lrmodel)\n",
    "model_evaluate(lrmodel,y_test,y_pred)\n",
    "#pickle.dump(fitted_model,open(\"sentiment_analysis.sav\", \"wb\"))"
   ]
  },
  {
   "cell_type": "markdown",
   "metadata": {},
   "source": [
    "#### Support Vector Classification"
   ]
  },
  {
   "cell_type": "code",
   "execution_count": 100,
   "metadata": {},
   "outputs": [
    {
     "name": "stdout",
     "output_type": "stream",
     "text": [
      "accuracy score: 0.81339375\n",
      "              precision    recall  f1-score   support\n",
      "\n",
      "           0       0.82      0.81      0.81    239943\n",
      "           1       0.81      0.82      0.81    240057\n",
      "\n",
      "    accuracy                           0.81    480000\n",
      "   macro avg       0.81      0.81      0.81    480000\n",
      "weighted avg       0.81      0.81      0.81    480000\n",
      "\n",
      "confusion_matrix\n",
      "\n",
      "True Negetives : 193498\n",
      "False Negetive : 46445\n",
      "False Positive : 43126\n",
      "True Positive : 196931\n",
      "total time taken(minutes) :0.5162949166666667\n"
     ]
    },
    {
     "data": {
      "image/png": "[encoded data removed]",
      "text/plain": [
       "<Figure size 720x360 with 3 Axes>"
      ]
     },
     "metadata": {
      "needs_background": "light"
     },
     "output_type": "display_data"
    }
   ],
   "source": [
    "svcmodel=LinearSVC()\n",
    "start_time=datetime.now()\n",
    "fitted_model=model_fit(svcmodel)\n",
    "y_pred=model_predict(svcmodel)\n",
    "model_evaluate(svcmodel,y_test,y_pred)"
   ]
  },
  {
   "cell_type": "markdown",
   "metadata": {},
   "source": [
    "#### Naive Bayes classifier"
   ]
  },
  {
   "cell_type": "code",
   "execution_count": 101,
   "metadata": {},
   "outputs": [
    {
     "name": "stdout",
     "output_type": "stream",
     "text": [
      "accuracy score: 0.79924375\n",
      "              precision    recall  f1-score   support\n",
      "\n",
      "           0       0.80      0.79      0.80    239943\n",
      "           1       0.80      0.81      0.80    240057\n",
      "\n",
      "    accuracy                           0.80    480000\n",
      "   macro avg       0.80      0.80      0.80    480000\n",
      "weighted avg       0.80      0.80      0.80    480000\n",
      "\n",
      "confusion_matrix\n",
      "\n",
      "True Negetives : 190200\n",
      "False Negetive : 49743\n",
      "False Positive : 46620\n",
      "True Positive : 193437\n",
      "total time taken(minutes) :0.0575121\n"
     ]
    },
    {
     "data": {
      "image/png": "[encoded data removed]",
      "text/plain": [
       "<Figure size 720x360 with 3 Axes>"
      ]
     },
     "metadata": {
      "needs_background": "light"
     },
     "output_type": "display_data"
    }
   ],
   "source": [
    "nbmodel=BernoulliNB()\n",
    "start_time=datetime.now()\n",
    "fitted_model=model_fit(nbmodel)\n",
    "y_pred=model_predict(nbmodel)\n",
    "model_evaluate(nbmodel,y_test,y_pred)"
   ]
  },
  {
   "cell_type": "markdown",
   "metadata": {},
   "source": [
    "### Using a Voting Classifier "
   ]
  },
  {
   "cell_type": "code",
   "execution_count": 102,
   "metadata": {},
   "outputs": [
    {
     "name": "stdout",
     "output_type": "stream",
     "text": [
      "accuracy score: 0.82265\n",
      "              precision    recall  f1-score   support\n",
      "\n",
      "           0       0.83      0.82      0.82    239943\n",
      "           1       0.82      0.83      0.82    240057\n",
      "\n",
      "    accuracy                           0.82    480000\n",
      "   macro avg       0.82      0.82      0.82    480000\n",
      "weighted avg       0.82      0.82      0.82    480000\n",
      "\n",
      "confusion_matrix\n",
      "\n",
      "True Negetives : 196066\n",
      "False Negetive : 43877\n",
      "False Positive : 41251\n",
      "True Positive : 198806\n",
      "total time taken(minutes) :1.6713098833333333\n"
     ]
    },
    {
     "data": {
      "image/png": "[encoded data removed]",
      "text/plain": [
       "<Figure size 720x360 with 3 Axes>"
      ]
     },
     "metadata": {
      "needs_background": "light"
     },
     "output_type": "display_data"
    }
   ],
   "source": [
    "voting_clf=VotingClassifier(estimators=[('nb',nbmodel),('svc',svcmodel),('lr',lrmodel)],voting='hard')\n",
    "start_time=datetime.now()\n",
    "fitted_model=model_fit(voting_clf)\n",
    "y_pred=model_predict(voting_clf)\n",
    "model_evaluate(voting_clf,y_test,y_pred)"
   ]
  },
  {
   "cell_type": "markdown",
   "metadata": {},
   "source": [
    "### Using a decison tree classifier"
   ]
  },
  {
   "cell_type": "code",
   "execution_count": 103,
   "metadata": {},
   "outputs": [
    {
     "name": "stdout",
     "output_type": "stream",
     "text": [
      "accuracy score: 0.7175479166666666\n",
      "              precision    recall  f1-score   support\n",
      "\n",
      "           0       0.74      0.68      0.71    239943\n",
      "           1       0.70      0.76      0.73    240057\n",
      "\n",
      "    accuracy                           0.72    480000\n",
      "   macro avg       0.72      0.72      0.72    480000\n",
      "weighted avg       0.72      0.72      0.72    480000\n",
      "\n",
      "confusion_matrix\n",
      "\n",
      "True Negetives : 162174\n",
      "False Negetive : 77769\n",
      "False Positive : 57808\n",
      "True Positive : 182249\n",
      "total time taken(minutes) :107.72311653333333\n"
     ]
    },
    {
     "data": {
      "image/png": "[encoded data removed]",
      "text/plain": [
       "<Figure size 720x360 with 3 Axes>"
      ]
     },
     "metadata": {
      "needs_background": "light"
     },
     "output_type": "display_data"
    }
   ],
   "source": [
    "tree_clf=DecisionTreeClassifier(max_depth=100)\n",
    "start_time=datetime.now()\n",
    "fitted_model=model_fit(tree_clf)\n",
    "y_pred=model_predict(tree_clf)\n",
    "model_evaluate(tree_clf,y_test,y_pred)"
   ]
  },
  {
   "cell_type": "markdown",
   "metadata": {},
   "source": [
    "### Using a Bagging classifier (sampling features and training data)"
   ]
  },
  {
   "cell_type": "code",
   "execution_count": 104,
   "metadata": {},
   "outputs": [
    {
     "name": "stdout",
     "output_type": "stream",
     "text": [
      "accuracy score: 0.6497020833333333\n",
      "              precision    recall  f1-score   support\n",
      "\n",
      "           0       0.71      0.51      0.59    239943\n",
      "           1       0.62      0.79      0.69    240057\n",
      "\n",
      "    accuracy                           0.65    480000\n",
      "   macro avg       0.66      0.65      0.64    480000\n",
      "weighted avg       0.66      0.65      0.64    480000\n",
      "\n",
      "confusion_matrix\n",
      "\n",
      "True Negetives : 123089\n",
      "False Negetive : 116854\n",
      "False Positive : 51289\n",
      "True Positive : 188768\n",
      "total time taken(minutes) :4.001466683333333\n"
     ]
    },
    {
     "data": {
      "image/png": "[encoded data removed]",
      "text/plain": [
       "<Figure size 720x360 with 3 Axes>"
      ]
     },
     "metadata": {
      "needs_background": "light"
     },
     "output_type": "display_data"
    }
   ],
   "source": [
    "bagging_clf=BaggingClassifier(DecisionTreeClassifier(),n_estimators=500,max_samples=100,bootstrap=True,n_jobs=-1,bootstrap_features=True,max_features=0.3)\n",
    "start_time=datetime.now()\n",
    "fitted_model=model_fit(bagging_clf)\n",
    "y_pred=model_predict(bagging_clf)\n",
    "model_evaluate(bagging_clf,y_test,y_pred)"
   ]
  }
 ],
 "metadata": {
  "kernelspec": {
   "display_name": "Springboardker",
   "language": "python",
   "name": "springboardker"
  },
  "language_info": {
   "codemirror_mode": {
    "name": "ipython",
    "version": 3
   },
   "file_extension": ".py",
   "mimetype": "text/x-python",
   "name": "python",
   "nbconvert_exporter": "python",
   "pygments_lexer": "ipython3",
   "version": "3.7.4"
  }
 },
 "nbformat": 4,
 "nbformat_minor": 4
}
