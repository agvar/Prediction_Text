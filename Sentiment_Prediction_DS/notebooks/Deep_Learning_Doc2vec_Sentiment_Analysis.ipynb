{
 "cells": [
  {
   "cell_type": "markdown",
   "metadata": {},
   "source": [
    "## Sentiment Analysis using deep learning"
   ]
  },
  {
   "cell_type": "markdown",
   "metadata": {},
   "source": [
    "Highlights:  \n",
    "Words in the training dataset were tokenized, lemmatized and stemmatized   \n",
    "convert text to word embeddings ( using word2vec from )"
   ]
  },
  {
   "cell_type": "code",
   "execution_count": 3,
   "metadata": {},
   "outputs": [],
   "source": [
    "import pandas as pd\n",
    "import numpy as np\n",
    "import matplotlib.pyplot as plt\n",
    "import re\n",
    "from nltk.stem.wordnet import WordNetLemmatizer\n",
    "from gensim.utils import simple_preprocess\n",
    "from gensim.models import Word2Vec,doc2vec\n",
    "from gensim.test.utils import get_tmpfile\n",
    "import smart_open\n",
    "import csv\n",
    "import tensorflow as tf\n",
    "from tensorflow import keras\n",
    "from gensim.models import KeyedVectors\n",
    "import datetime\n",
    "from pathlib import Path\n",
    "from sklearn.model_selection import train_test_split"
   ]
  },
  {
   "cell_type": "code",
   "execution_count": 16,
   "metadata": {},
   "outputs": [],
   "source": [
    "input_file_sentiment=\"E:\\\\python_projects\\\\Springboard\\datasets\\\\twitter_sentiment140\\\\training_140_sentiment.csv\""
   ]
  },
  {
   "cell_type": "code",
   "execution_count": 17,
   "metadata": {},
   "outputs": [],
   "source": [
    "sentiment_colls=['sentiment','tweet_id','tweet_date','query','username','tweet']\n",
    "tweet_df=pd.read_csv(input_file_sentiment,encoding='cp1252',names=sentiment_colls,usecols=['sentiment','tweet'])"
   ]
  },
  {
   "cell_type": "code",
   "execution_count": 23,
   "metadata": {},
   "outputs": [
    {
     "data": {
      "text/html": [
       "<div>\n",
       "<style scoped>\n",
       "    .dataframe tbody tr th:only-of-type {\n",
       "        vertical-align: middle;\n",
       "    }\n",
       "\n",
       "    .dataframe tbody tr th {\n",
       "        vertical-align: top;\n",
       "    }\n",
       "\n",
       "    .dataframe thead th {\n",
       "        text-align: right;\n",
       "    }\n",
       "</style>\n",
       "<table border=\"1\" class=\"dataframe\">\n",
       "  <thead>\n",
       "    <tr style=\"text-align: right;\">\n",
       "      <th></th>\n",
       "      <th>sentiment</th>\n",
       "      <th>tweet</th>\n",
       "    </tr>\n",
       "  </thead>\n",
       "  <tbody>\n",
       "    <tr>\n",
       "      <th>0</th>\n",
       "      <td>0</td>\n",
       "      <td>@switchfoot http://twitpic.com/2y1zl - Awww, t...</td>\n",
       "    </tr>\n",
       "    <tr>\n",
       "      <th>1</th>\n",
       "      <td>0</td>\n",
       "      <td>is upset that he can't update his Facebook by ...</td>\n",
       "    </tr>\n",
       "    <tr>\n",
       "      <th>2</th>\n",
       "      <td>0</td>\n",
       "      <td>@Kenichan I dived many times for the ball. Man...</td>\n",
       "    </tr>\n",
       "    <tr>\n",
       "      <th>3</th>\n",
       "      <td>0</td>\n",
       "      <td>my whole body feels itchy and like its on fire</td>\n",
       "    </tr>\n",
       "    <tr>\n",
       "      <th>4</th>\n",
       "      <td>0</td>\n",
       "      <td>@nationwideclass no, it's not behaving at all....</td>\n",
       "    </tr>\n",
       "    <tr>\n",
       "      <th>...</th>\n",
       "      <td>...</td>\n",
       "      <td>...</td>\n",
       "    </tr>\n",
       "    <tr>\n",
       "      <th>1599995</th>\n",
       "      <td>4</td>\n",
       "      <td>Just woke up. Having no school is the best fee...</td>\n",
       "    </tr>\n",
       "    <tr>\n",
       "      <th>1599996</th>\n",
       "      <td>4</td>\n",
       "      <td>TheWDB.com - Very cool to hear old Walt interv...</td>\n",
       "    </tr>\n",
       "    <tr>\n",
       "      <th>1599997</th>\n",
       "      <td>4</td>\n",
       "      <td>Are you ready for your MoJo Makeover? Ask me f...</td>\n",
       "    </tr>\n",
       "    <tr>\n",
       "      <th>1599998</th>\n",
       "      <td>4</td>\n",
       "      <td>Happy 38th Birthday to my boo of alll time!!! ...</td>\n",
       "    </tr>\n",
       "    <tr>\n",
       "      <th>1599999</th>\n",
       "      <td>4</td>\n",
       "      <td>happy #charitytuesday @theNSPCC @SparksCharity...</td>\n",
       "    </tr>\n",
       "  </tbody>\n",
       "</table>\n",
       "<p>1600000 rows × 2 columns</p>\n",
       "</div>"
      ],
      "text/plain": [
       "         sentiment                                              tweet\n",
       "0                0  @switchfoot http://twitpic.com/2y1zl - Awww, t...\n",
       "1                0  is upset that he can't update his Facebook by ...\n",
       "2                0  @Kenichan I dived many times for the ball. Man...\n",
       "3                0    my whole body feels itchy and like its on fire \n",
       "4                0  @nationwideclass no, it's not behaving at all....\n",
       "...            ...                                                ...\n",
       "1599995          4  Just woke up. Having no school is the best fee...\n",
       "1599996          4  TheWDB.com - Very cool to hear old Walt interv...\n",
       "1599997          4  Are you ready for your MoJo Makeover? Ask me f...\n",
       "1599998          4  Happy 38th Birthday to my boo of alll time!!! ...\n",
       "1599999          4  happy #charitytuesday @theNSPCC @SparksCharity...\n",
       "\n",
       "[1600000 rows x 2 columns]"
      ]
     },
     "execution_count": 23,
     "metadata": {},
     "output_type": "execute_result"
    }
   ],
   "source": [
    "tweet_df"
   ]
  },
  {
   "cell_type": "code",
   "execution_count": 24,
   "metadata": {},
   "outputs": [],
   "source": [
    "def cleanse_tweet(line):\n",
    "    #remove any @ words\n",
    "    tweet_no_refs=re.sub(r'@\\S+|#\\S+','',line)\n",
    "\n",
    "    #remove any non alphanumeric character  or punctuations\n",
    "    tweet_no_punctuation=re.sub(r'[^\\w\\s]','',tweet_no_refs)\n",
    "\n",
    "    #remove url links\n",
    "    tweet_no_urls=re.sub(r'https?\\S+','',tweet_no_punctuation)  \n",
    "       \n",
    "    #remove numerals\n",
    "    tweet_no_numerals=re.sub(r'[0-9]+','',tweet_no_urls)\n",
    "\n",
    "    #remove stopwords\n",
    "    tweet_tokens=[word.lower() for word in tweet_no_numerals.split()]\n",
    "        \n",
    "    return tweet_tokens"
   ]
  },
  {
   "cell_type": "code",
   "execution_count": 25,
   "metadata": {},
   "outputs": [],
   "source": [
    "tweet_df['simple_preprocess']  = tweet_df['tweet'].apply(lambda x:simple_preprocess(x) )"
   ]
  },
  {
   "cell_type": "code",
   "execution_count": 26,
   "metadata": {},
   "outputs": [],
   "source": [
    "tweet_df['manual_preprocess']=tweet_df['tweet'].apply(lambda x:cleanse_tweet(x))"
   ]
  },
  {
   "cell_type": "code",
   "execution_count": 27,
   "metadata": {},
   "outputs": [
    {
     "data": {
      "text/html": [
       "<div>\n",
       "<style scoped>\n",
       "    .dataframe tbody tr th:only-of-type {\n",
       "        vertical-align: middle;\n",
       "    }\n",
       "\n",
       "    .dataframe tbody tr th {\n",
       "        vertical-align: top;\n",
       "    }\n",
       "\n",
       "    .dataframe thead th {\n",
       "        text-align: right;\n",
       "    }\n",
       "</style>\n",
       "<table border=\"1\" class=\"dataframe\">\n",
       "  <thead>\n",
       "    <tr style=\"text-align: right;\">\n",
       "      <th></th>\n",
       "      <th>sentiment</th>\n",
       "      <th>tweet</th>\n",
       "      <th>simple_preprocess</th>\n",
       "      <th>manual_preprocess</th>\n",
       "    </tr>\n",
       "  </thead>\n",
       "  <tbody>\n",
       "    <tr>\n",
       "      <th>0</th>\n",
       "      <td>0</td>\n",
       "      <td>@switchfoot http://twitpic.com/2y1zl - Awww, t...</td>\n",
       "      <td>[switchfoot, http, twitpic, com, zl, awww, tha...</td>\n",
       "      <td>[awww, thats, a, bummer, you, shoulda, got, da...</td>\n",
       "    </tr>\n",
       "    <tr>\n",
       "      <th>1</th>\n",
       "      <td>0</td>\n",
       "      <td>is upset that he can't update his Facebook by ...</td>\n",
       "      <td>[is, upset, that, he, can, update, his, facebo...</td>\n",
       "      <td>[is, upset, that, he, cant, update, his, faceb...</td>\n",
       "    </tr>\n",
       "    <tr>\n",
       "      <th>2</th>\n",
       "      <td>0</td>\n",
       "      <td>@Kenichan I dived many times for the ball. Man...</td>\n",
       "      <td>[kenichan, dived, many, times, for, the, ball,...</td>\n",
       "      <td>[i, dived, many, times, for, the, ball, manage...</td>\n",
       "    </tr>\n",
       "    <tr>\n",
       "      <th>3</th>\n",
       "      <td>0</td>\n",
       "      <td>my whole body feels itchy and like its on fire</td>\n",
       "      <td>[my, whole, body, feels, itchy, and, like, its...</td>\n",
       "      <td>[my, whole, body, feels, itchy, and, like, its...</td>\n",
       "    </tr>\n",
       "    <tr>\n",
       "      <th>4</th>\n",
       "      <td>0</td>\n",
       "      <td>@nationwideclass no, it's not behaving at all....</td>\n",
       "      <td>[nationwideclass, no, it, not, behaving, at, a...</td>\n",
       "      <td>[no, its, not, behaving, at, all, im, mad, why...</td>\n",
       "    </tr>\n",
       "    <tr>\n",
       "      <th>...</th>\n",
       "      <td>...</td>\n",
       "      <td>...</td>\n",
       "      <td>...</td>\n",
       "      <td>...</td>\n",
       "    </tr>\n",
       "    <tr>\n",
       "      <th>1599995</th>\n",
       "      <td>4</td>\n",
       "      <td>Just woke up. Having no school is the best fee...</td>\n",
       "      <td>[just, woke, up, having, no, school, is, the, ...</td>\n",
       "      <td>[just, woke, up, having, no, school, is, the, ...</td>\n",
       "    </tr>\n",
       "    <tr>\n",
       "      <th>1599996</th>\n",
       "      <td>4</td>\n",
       "      <td>TheWDB.com - Very cool to hear old Walt interv...</td>\n",
       "      <td>[thewdb, com, very, cool, to, hear, old, walt,...</td>\n",
       "      <td>[thewdbcom, very, cool, to, hear, old, walt, i...</td>\n",
       "    </tr>\n",
       "    <tr>\n",
       "      <th>1599997</th>\n",
       "      <td>4</td>\n",
       "      <td>Are you ready for your MoJo Makeover? Ask me f...</td>\n",
       "      <td>[are, you, ready, for, your, mojo, makeover, a...</td>\n",
       "      <td>[are, you, ready, for, your, mojo, makeover, a...</td>\n",
       "    </tr>\n",
       "    <tr>\n",
       "      <th>1599998</th>\n",
       "      <td>4</td>\n",
       "      <td>Happy 38th Birthday to my boo of alll time!!! ...</td>\n",
       "      <td>[happy, th, birthday, to, my, boo, of, alll, t...</td>\n",
       "      <td>[happy, th, birthday, to, my, boo, of, alll, t...</td>\n",
       "    </tr>\n",
       "    <tr>\n",
       "      <th>1599999</th>\n",
       "      <td>4</td>\n",
       "      <td>happy #charitytuesday @theNSPCC @SparksCharity...</td>\n",
       "      <td>[happy, charitytuesday, thenspcc, sparkscharit...</td>\n",
       "      <td>[happy]</td>\n",
       "    </tr>\n",
       "  </tbody>\n",
       "</table>\n",
       "<p>1600000 rows × 4 columns</p>\n",
       "</div>"
      ],
      "text/plain": [
       "         sentiment                                              tweet  \\\n",
       "0                0  @switchfoot http://twitpic.com/2y1zl - Awww, t...   \n",
       "1                0  is upset that he can't update his Facebook by ...   \n",
       "2                0  @Kenichan I dived many times for the ball. Man...   \n",
       "3                0    my whole body feels itchy and like its on fire    \n",
       "4                0  @nationwideclass no, it's not behaving at all....   \n",
       "...            ...                                                ...   \n",
       "1599995          4  Just woke up. Having no school is the best fee...   \n",
       "1599996          4  TheWDB.com - Very cool to hear old Walt interv...   \n",
       "1599997          4  Are you ready for your MoJo Makeover? Ask me f...   \n",
       "1599998          4  Happy 38th Birthday to my boo of alll time!!! ...   \n",
       "1599999          4  happy #charitytuesday @theNSPCC @SparksCharity...   \n",
       "\n",
       "                                         simple_preprocess  \\\n",
       "0        [switchfoot, http, twitpic, com, zl, awww, tha...   \n",
       "1        [is, upset, that, he, can, update, his, facebo...   \n",
       "2        [kenichan, dived, many, times, for, the, ball,...   \n",
       "3        [my, whole, body, feels, itchy, and, like, its...   \n",
       "4        [nationwideclass, no, it, not, behaving, at, a...   \n",
       "...                                                    ...   \n",
       "1599995  [just, woke, up, having, no, school, is, the, ...   \n",
       "1599996  [thewdb, com, very, cool, to, hear, old, walt,...   \n",
       "1599997  [are, you, ready, for, your, mojo, makeover, a...   \n",
       "1599998  [happy, th, birthday, to, my, boo, of, alll, t...   \n",
       "1599999  [happy, charitytuesday, thenspcc, sparkscharit...   \n",
       "\n",
       "                                         manual_preprocess  \n",
       "0        [awww, thats, a, bummer, you, shoulda, got, da...  \n",
       "1        [is, upset, that, he, cant, update, his, faceb...  \n",
       "2        [i, dived, many, times, for, the, ball, manage...  \n",
       "3        [my, whole, body, feels, itchy, and, like, its...  \n",
       "4        [no, its, not, behaving, at, all, im, mad, why...  \n",
       "...                                                    ...  \n",
       "1599995  [just, woke, up, having, no, school, is, the, ...  \n",
       "1599996  [thewdbcom, very, cool, to, hear, old, walt, i...  \n",
       "1599997  [are, you, ready, for, your, mojo, makeover, a...  \n",
       "1599998  [happy, th, birthday, to, my, boo, of, alll, t...  \n",
       "1599999                                            [happy]  \n",
       "\n",
       "[1600000 rows x 4 columns]"
      ]
     },
     "execution_count": 27,
     "metadata": {},
     "output_type": "execute_result"
    }
   ],
   "source": [
    "tweet_df"
   ]
  },
  {
   "cell_type": "code",
   "execution_count": 28,
   "metadata": {},
   "outputs": [],
   "source": [
    "def tweet_lemmatize(tweet):\n",
    "    return  [WordNetLemmatizer().lemmatize(word) for word in tweet]"
   ]
  },
  {
   "cell_type": "code",
   "execution_count": 29,
   "metadata": {},
   "outputs": [],
   "source": [
    "tweet_df['lemma']=tweet_df['manual_preprocess'].apply(lambda x:tweet_lemmatize(x) )"
   ]
  },
  {
   "cell_type": "code",
   "execution_count": 30,
   "metadata": {},
   "outputs": [
    {
     "data": {
      "text/html": [
       "<div>\n",
       "<style scoped>\n",
       "    .dataframe tbody tr th:only-of-type {\n",
       "        vertical-align: middle;\n",
       "    }\n",
       "\n",
       "    .dataframe tbody tr th {\n",
       "        vertical-align: top;\n",
       "    }\n",
       "\n",
       "    .dataframe thead th {\n",
       "        text-align: right;\n",
       "    }\n",
       "</style>\n",
       "<table border=\"1\" class=\"dataframe\">\n",
       "  <thead>\n",
       "    <tr style=\"text-align: right;\">\n",
       "      <th></th>\n",
       "      <th>sentiment</th>\n",
       "      <th>tweet</th>\n",
       "      <th>simple_preprocess</th>\n",
       "      <th>manual_preprocess</th>\n",
       "      <th>lemma</th>\n",
       "    </tr>\n",
       "  </thead>\n",
       "  <tbody>\n",
       "    <tr>\n",
       "      <th>0</th>\n",
       "      <td>0</td>\n",
       "      <td>@switchfoot http://twitpic.com/2y1zl - Awww, t...</td>\n",
       "      <td>[switchfoot, http, twitpic, com, zl, awww, tha...</td>\n",
       "      <td>[awww, thats, a, bummer, you, shoulda, got, da...</td>\n",
       "      <td>[awww, thats, a, bummer, you, shoulda, got, da...</td>\n",
       "    </tr>\n",
       "    <tr>\n",
       "      <th>1</th>\n",
       "      <td>0</td>\n",
       "      <td>is upset that he can't update his Facebook by ...</td>\n",
       "      <td>[is, upset, that, he, can, update, his, facebo...</td>\n",
       "      <td>[is, upset, that, he, cant, update, his, faceb...</td>\n",
       "      <td>[is, upset, that, he, cant, update, his, faceb...</td>\n",
       "    </tr>\n",
       "    <tr>\n",
       "      <th>2</th>\n",
       "      <td>0</td>\n",
       "      <td>@Kenichan I dived many times for the ball. Man...</td>\n",
       "      <td>[kenichan, dived, many, times, for, the, ball,...</td>\n",
       "      <td>[i, dived, many, times, for, the, ball, manage...</td>\n",
       "      <td>[i, dived, many, time, for, the, ball, managed...</td>\n",
       "    </tr>\n",
       "    <tr>\n",
       "      <th>3</th>\n",
       "      <td>0</td>\n",
       "      <td>my whole body feels itchy and like its on fire</td>\n",
       "      <td>[my, whole, body, feels, itchy, and, like, its...</td>\n",
       "      <td>[my, whole, body, feels, itchy, and, like, its...</td>\n",
       "      <td>[my, whole, body, feel, itchy, and, like, it, ...</td>\n",
       "    </tr>\n",
       "    <tr>\n",
       "      <th>4</th>\n",
       "      <td>0</td>\n",
       "      <td>@nationwideclass no, it's not behaving at all....</td>\n",
       "      <td>[nationwideclass, no, it, not, behaving, at, a...</td>\n",
       "      <td>[no, its, not, behaving, at, all, im, mad, why...</td>\n",
       "      <td>[no, it, not, behaving, at, all, im, mad, why,...</td>\n",
       "    </tr>\n",
       "    <tr>\n",
       "      <th>...</th>\n",
       "      <td>...</td>\n",
       "      <td>...</td>\n",
       "      <td>...</td>\n",
       "      <td>...</td>\n",
       "      <td>...</td>\n",
       "    </tr>\n",
       "    <tr>\n",
       "      <th>1599995</th>\n",
       "      <td>4</td>\n",
       "      <td>Just woke up. Having no school is the best fee...</td>\n",
       "      <td>[just, woke, up, having, no, school, is, the, ...</td>\n",
       "      <td>[just, woke, up, having, no, school, is, the, ...</td>\n",
       "      <td>[just, woke, up, having, no, school, is, the, ...</td>\n",
       "    </tr>\n",
       "    <tr>\n",
       "      <th>1599996</th>\n",
       "      <td>4</td>\n",
       "      <td>TheWDB.com - Very cool to hear old Walt interv...</td>\n",
       "      <td>[thewdb, com, very, cool, to, hear, old, walt,...</td>\n",
       "      <td>[thewdbcom, very, cool, to, hear, old, walt, i...</td>\n",
       "      <td>[thewdbcom, very, cool, to, hear, old, walt, i...</td>\n",
       "    </tr>\n",
       "    <tr>\n",
       "      <th>1599997</th>\n",
       "      <td>4</td>\n",
       "      <td>Are you ready for your MoJo Makeover? Ask me f...</td>\n",
       "      <td>[are, you, ready, for, your, mojo, makeover, a...</td>\n",
       "      <td>[are, you, ready, for, your, mojo, makeover, a...</td>\n",
       "      <td>[are, you, ready, for, your, mojo, makeover, a...</td>\n",
       "    </tr>\n",
       "    <tr>\n",
       "      <th>1599998</th>\n",
       "      <td>4</td>\n",
       "      <td>Happy 38th Birthday to my boo of alll time!!! ...</td>\n",
       "      <td>[happy, th, birthday, to, my, boo, of, alll, t...</td>\n",
       "      <td>[happy, th, birthday, to, my, boo, of, alll, t...</td>\n",
       "      <td>[happy, th, birthday, to, my, boo, of, alll, t...</td>\n",
       "    </tr>\n",
       "    <tr>\n",
       "      <th>1599999</th>\n",
       "      <td>4</td>\n",
       "      <td>happy #charitytuesday @theNSPCC @SparksCharity...</td>\n",
       "      <td>[happy, charitytuesday, thenspcc, sparkscharit...</td>\n",
       "      <td>[happy]</td>\n",
       "      <td>[happy]</td>\n",
       "    </tr>\n",
       "  </tbody>\n",
       "</table>\n",
       "<p>1600000 rows × 5 columns</p>\n",
       "</div>"
      ],
      "text/plain": [
       "         sentiment                                              tweet  \\\n",
       "0                0  @switchfoot http://twitpic.com/2y1zl - Awww, t...   \n",
       "1                0  is upset that he can't update his Facebook by ...   \n",
       "2                0  @Kenichan I dived many times for the ball. Man...   \n",
       "3                0    my whole body feels itchy and like its on fire    \n",
       "4                0  @nationwideclass no, it's not behaving at all....   \n",
       "...            ...                                                ...   \n",
       "1599995          4  Just woke up. Having no school is the best fee...   \n",
       "1599996          4  TheWDB.com - Very cool to hear old Walt interv...   \n",
       "1599997          4  Are you ready for your MoJo Makeover? Ask me f...   \n",
       "1599998          4  Happy 38th Birthday to my boo of alll time!!! ...   \n",
       "1599999          4  happy #charitytuesday @theNSPCC @SparksCharity...   \n",
       "\n",
       "                                         simple_preprocess  \\\n",
       "0        [switchfoot, http, twitpic, com, zl, awww, tha...   \n",
       "1        [is, upset, that, he, can, update, his, facebo...   \n",
       "2        [kenichan, dived, many, times, for, the, ball,...   \n",
       "3        [my, whole, body, feels, itchy, and, like, its...   \n",
       "4        [nationwideclass, no, it, not, behaving, at, a...   \n",
       "...                                                    ...   \n",
       "1599995  [just, woke, up, having, no, school, is, the, ...   \n",
       "1599996  [thewdb, com, very, cool, to, hear, old, walt,...   \n",
       "1599997  [are, you, ready, for, your, mojo, makeover, a...   \n",
       "1599998  [happy, th, birthday, to, my, boo, of, alll, t...   \n",
       "1599999  [happy, charitytuesday, thenspcc, sparkscharit...   \n",
       "\n",
       "                                         manual_preprocess  \\\n",
       "0        [awww, thats, a, bummer, you, shoulda, got, da...   \n",
       "1        [is, upset, that, he, cant, update, his, faceb...   \n",
       "2        [i, dived, many, times, for, the, ball, manage...   \n",
       "3        [my, whole, body, feels, itchy, and, like, its...   \n",
       "4        [no, its, not, behaving, at, all, im, mad, why...   \n",
       "...                                                    ...   \n",
       "1599995  [just, woke, up, having, no, school, is, the, ...   \n",
       "1599996  [thewdbcom, very, cool, to, hear, old, walt, i...   \n",
       "1599997  [are, you, ready, for, your, mojo, makeover, a...   \n",
       "1599998  [happy, th, birthday, to, my, boo, of, alll, t...   \n",
       "1599999                                            [happy]   \n",
       "\n",
       "                                                     lemma  \n",
       "0        [awww, thats, a, bummer, you, shoulda, got, da...  \n",
       "1        [is, upset, that, he, cant, update, his, faceb...  \n",
       "2        [i, dived, many, time, for, the, ball, managed...  \n",
       "3        [my, whole, body, feel, itchy, and, like, it, ...  \n",
       "4        [no, it, not, behaving, at, all, im, mad, why,...  \n",
       "...                                                    ...  \n",
       "1599995  [just, woke, up, having, no, school, is, the, ...  \n",
       "1599996  [thewdbcom, very, cool, to, hear, old, walt, i...  \n",
       "1599997  [are, you, ready, for, your, mojo, makeover, a...  \n",
       "1599998  [happy, th, birthday, to, my, boo, of, alll, t...  \n",
       "1599999                                            [happy]  \n",
       "\n",
       "[1600000 rows x 5 columns]"
      ]
     },
     "execution_count": 30,
     "metadata": {},
     "output_type": "execute_result"
    }
   ],
   "source": [
    "tweet_df"
   ]
  },
  {
   "cell_type": "markdown",
   "metadata": {},
   "source": [
    "### Create label"
   ]
  },
  {
   "cell_type": "code",
   "execution_count": 31,
   "metadata": {},
   "outputs": [],
   "source": [
    "sentiment_colls=['sentiment','tweet_id','tweet_date','query','username','tweet']\n",
    "y=pd.read_csv(input_file_sentiment,encoding='cp1252',names=sentiment_colls,usecols=['sentiment'])"
   ]
  },
  {
   "cell_type": "code",
   "execution_count": 32,
   "metadata": {},
   "outputs": [],
   "source": [
    "y['sentiment']=y['sentiment'].apply(lambda x: 1 if x==4 else 0)"
   ]
  },
  {
   "cell_type": "code",
   "execution_count": 33,
   "metadata": {},
   "outputs": [],
   "source": [
    "y=y['sentiment'].values"
   ]
  },
  {
   "cell_type": "code",
   "execution_count": 34,
   "metadata": {},
   "outputs": [
    {
     "data": {
      "text/plain": [
       "(1600000,)"
      ]
     },
     "execution_count": 34,
     "metadata": {},
     "output_type": "execute_result"
    }
   ],
   "source": [
    "y.reshape(-1,1)\n",
    "y.shape"
   ]
  },
  {
   "cell_type": "markdown",
   "metadata": {},
   "source": [
    "### Split into train and test"
   ]
  },
  {
   "cell_type": "code",
   "execution_count": 46,
   "metadata": {},
   "outputs": [],
   "source": [
    "X_train_text,X_test_text,y_train,y_test=train_test_split(tweet_df['lemma'],y,test_size=0.3,random_state=42)"
   ]
  },
  {
   "cell_type": "code",
   "execution_count": 47,
   "metadata": {},
   "outputs": [
    {
     "name": "stdout",
     "output_type": "stream",
     "text": [
      "X_train : (1120000,)\n",
      "X_test : (480000,)\n",
      "y_train : (1120000,)\n",
      "y_test : (480000,)\n"
     ]
    }
   ],
   "source": [
    "print(f\"X_train : {X_train_text.shape}\")\n",
    "print(f\"X_test : {X_test_text.shape}\")\n",
    "print(f\"y_train : {y_train.shape}\")\n",
    "print(f\"y_test : {y_test.shape}\")"
   ]
  },
  {
   "cell_type": "code",
   "execution_count": 48,
   "metadata": {},
   "outputs": [
    {
     "data": {
      "text/plain": [
       "array([[     0, 560639],\n",
       "       [     1, 559361]], dtype=int64)"
      ]
     },
     "execution_count": 48,
     "metadata": {},
     "output_type": "execute_result"
    }
   ],
   "source": [
    "unique,counts=np.unique(y_train,return_counts=True)\n",
    "result = np.column_stack((unique, counts))\n",
    "result"
   ]
  },
  {
   "cell_type": "markdown",
   "metadata": {},
   "source": [
    "### Build and Train a doc2vec model on the train data"
   ]
  },
  {
   "cell_type": "code",
   "execution_count": 222,
   "metadata": {},
   "outputs": [
    {
     "name": "stdout",
     "output_type": "stream",
     "text": [
      "start vector:2022-08-09 13:47:24.186596\n",
      "start model:2022-08-09 13:48:07.857007\n",
      "time_taken {datetime.timedelta(seconds=3804, microseconds=698699)}\n"
     ]
    }
   ],
   "source": [
    "start_time=datetime.datetime.now()\n",
    "print(f'start vector:{start_time}')\n",
    "documents = [doc2vec.TaggedDocument(doc, [i]) for i, doc in enumerate(X_train_text)]\n",
    "print(f'start model:{datetime.datetime.now()}')\n",
    "model = doc2vec.Doc2Vec(documents, vector_size=1000, window=2, min_count=1, workers=4,epochs=20)\n",
    "print(f\"time_taken\",{datetime.datetime.now()- start_time})"
   ]
  },
  {
   "cell_type": "markdown",
   "metadata": {},
   "source": [
    "### Save the train model to disk"
   ]
  },
  {
   "cell_type": "code",
   "execution_count": 6,
   "metadata": {},
   "outputs": [],
   "source": [
    "fname = get_tmpfile(Path.cwd() / 'sentiment_doc2vec_model_train')\n"
   ]
  },
  {
   "cell_type": "code",
   "execution_count": 224,
   "metadata": {},
   "outputs": [
    {
     "data": {
      "text/plain": [
       "1120000"
      ]
     },
     "execution_count": 224,
     "metadata": {},
     "output_type": "execute_result"
    }
   ],
   "source": [
    "model.save(fname)"
   ]
  },
  {
   "cell_type": "code",
   "execution_count": 7,
   "metadata": {},
   "outputs": [],
   "source": [
    "model=doc2vec.Doc2Vec.load(fname)"
   ]
  },
  {
   "cell_type": "code",
   "execution_count": 8,
   "metadata": {},
   "outputs": [
    {
     "data": {
      "text/plain": [
       "<gensim.models.doc2vec.Doc2Vec at 0x126c1d51a48>"
      ]
     },
     "execution_count": 8,
     "metadata": {},
     "output_type": "execute_result"
    }
   ],
   "source": [
    "model"
   ]
  },
  {
   "cell_type": "markdown",
   "metadata": {},
   "source": [
    "### Creating a list of vectors on train data"
   ]
  },
  {
   "cell_type": "code",
   "execution_count": 9,
   "metadata": {},
   "outputs": [
    {
     "name": "stdout",
     "output_type": "stream",
     "text": [
      "start vector:2022-08-10 11:29:05.927433\n",
      "time_taken {datetime.timedelta(seconds=3, microseconds=765003)}\n"
     ]
    }
   ],
   "source": [
    "start_time=datetime.datetime.now()\n",
    "print(f'start vector:{start_time}')\n",
    "X_train=[]\n",
    "for i in range(len(model.dv)):\n",
    "    X_train.append(model.dv[i])      \n",
    "print(f\"time_taken\",{datetime.datetime.now()- start_time})       "
   ]
  },
  {
   "cell_type": "code",
   "execution_count": 10,
   "metadata": {},
   "outputs": [],
   "source": [
    "X_train=np.array(X_train)"
   ]
  },
  {
   "cell_type": "code",
   "execution_count": 11,
   "metadata": {},
   "outputs": [
    {
     "data": {
      "text/plain": [
       "numpy.ndarray"
      ]
     },
     "execution_count": 11,
     "metadata": {},
     "output_type": "execute_result"
    }
   ],
   "source": [
    "type(X_train)\n",
    "#print(X_train.shape)"
   ]
  },
  {
   "cell_type": "markdown",
   "metadata": {},
   "source": [
    "## Creating a Deep Neural Network"
   ]
  },
  {
   "cell_type": "code",
   "execution_count": 38,
   "metadata": {},
   "outputs": [],
   "source": [
    "def create_model_keras(learning_rate=0.01,input_shape=[1000,],nodes=300):\n",
    "    model_keras=tf.keras.models.Sequential([\n",
    "    keras.layers.Flatten(input_shape=input_shape),\n",
    "    keras.layers.Dense(nodes,activation=\"relu\"),\n",
    "    keras.layers.Dense(nodes,activation=\"relu\"),\n",
    "    keras.layers.Dense(nodes,activation=\"relu\"),\n",
    "    keras.layers.Dense(1,activation=\"sigmoid\")\n",
    "    ])\n",
    "    model_keras.compile(loss=\"binary_crossentropy\",\n",
    "                   optimizer=keras.optimizers.SGD(learning_rate=learning_rate),\n",
    "                   metrics=[\"accuracy\"])\n",
    "    return model_keras"
   ]
  },
  {
   "cell_type": "code",
   "execution_count": 39,
   "metadata": {},
   "outputs": [
    {
     "name": "stdout",
     "output_type": "stream",
     "text": [
      "Model: \"sequential_1\"\n",
      "_________________________________________________________________\n",
      " Layer (type)                Output Shape              Param #   \n",
      "=================================================================\n",
      " flatten_1 (Flatten)         (None, 1000)              0         \n",
      "                                                                 \n",
      " dense_4 (Dense)             (None, 300)               300300    \n",
      "                                                                 \n",
      " dense_5 (Dense)             (None, 300)               90300     \n",
      "                                                                 \n",
      " dense_6 (Dense)             (None, 300)               90300     \n",
      "                                                                 \n",
      " dense_7 (Dense)             (None, 1)                 301       \n",
      "                                                                 \n",
      "=================================================================\n",
      "Total params: 481,201\n",
      "Trainable params: 481,201\n",
      "Non-trainable params: 0\n",
      "_________________________________________________________________\n"
     ]
    }
   ],
   "source": [
    "model_keras=create_model_keras()\n",
    "model_keras.summary()"
   ]
  },
  {
   "cell_type": "code",
   "execution_count": 40,
   "metadata": {},
   "outputs": [
    {
     "name": "stdout",
     "output_type": "stream",
     "text": [
      "Epoch 1/40\n",
      "28000/28000 [==============================] - 160s 6ms/step - loss: 0.5654 - accuracy: 0.7088 - val_loss: 0.5432 - val_accuracy: 0.7245\n",
      "Epoch 2/40\n",
      "28000/28000 [==============================] - 156s 6ms/step - loss: 0.5324 - accuracy: 0.7321 - val_loss: 0.5305 - val_accuracy: 0.7316\n",
      "Epoch 3/40\n",
      "28000/28000 [==============================] - 156s 6ms/step - loss: 0.5187 - accuracy: 0.7416 - val_loss: 0.5217 - val_accuracy: 0.7378\n",
      "Epoch 4/40\n",
      "28000/28000 [==============================] - 155s 6ms/step - loss: 0.5080 - accuracy: 0.7492 - val_loss: 0.5131 - val_accuracy: 0.7457\n",
      "Epoch 5/40\n",
      "28000/28000 [==============================] - 157s 6ms/step - loss: 0.4999 - accuracy: 0.7547 - val_loss: 0.5078 - val_accuracy: 0.7492\n",
      "Epoch 6/40\n",
      "28000/28000 [==============================] - 156s 6ms/step - loss: 0.4933 - accuracy: 0.7593 - val_loss: 0.5151 - val_accuracy: 0.7460\n",
      "Epoch 7/40\n",
      "28000/28000 [==============================] - 157s 6ms/step - loss: 0.4878 - accuracy: 0.7626 - val_loss: 0.5043 - val_accuracy: 0.7517\n",
      "Epoch 8/40\n",
      "28000/28000 [==============================] - 158s 6ms/step - loss: 0.4830 - accuracy: 0.7653 - val_loss: 0.5022 - val_accuracy: 0.7533\n",
      "Epoch 9/40\n",
      "28000/28000 [==============================] - 159s 6ms/step - loss: 0.4782 - accuracy: 0.7689 - val_loss: 0.5026 - val_accuracy: 0.7523\n",
      "Epoch 10/40\n",
      "28000/28000 [==============================] - 162s 6ms/step - loss: 0.4743 - accuracy: 0.7713 - val_loss: 0.5029 - val_accuracy: 0.7536\n",
      "Epoch 11/40\n",
      "28000/28000 [==============================] - 197s 7ms/step - loss: 0.4704 - accuracy: 0.7741 - val_loss: 0.4991 - val_accuracy: 0.7564\n",
      "Epoch 12/40\n",
      "28000/28000 [==============================] - 183s 7ms/step - loss: 0.4666 - accuracy: 0.7762 - val_loss: 0.5033 - val_accuracy: 0.7547\n",
      "Epoch 13/40\n",
      "28000/28000 [==============================] - 182s 6ms/step - loss: 0.4630 - accuracy: 0.7784 - val_loss: 0.5063 - val_accuracy: 0.7541\n",
      "Epoch 14/40\n",
      "28000/28000 [==============================] - 182s 6ms/step - loss: 0.4595 - accuracy: 0.7809 - val_loss: 0.5055 - val_accuracy: 0.7527\n",
      "Epoch 15/40\n",
      "28000/28000 [==============================] - 181s 6ms/step - loss: 0.4561 - accuracy: 0.7832 - val_loss: 0.5016 - val_accuracy: 0.7552\n",
      "Epoch 16/40\n",
      "28000/28000 [==============================] - 186s 7ms/step - loss: 0.4529 - accuracy: 0.7845 - val_loss: 0.5061 - val_accuracy: 0.7533\n",
      "Epoch 17/40\n",
      "28000/28000 [==============================] - 176s 6ms/step - loss: 0.4494 - accuracy: 0.7873 - val_loss: 0.5086 - val_accuracy: 0.7520\n",
      "Epoch 18/40\n",
      "28000/28000 [==============================] - 159s 6ms/step - loss: 0.4460 - accuracy: 0.7895 - val_loss: 0.5051 - val_accuracy: 0.7531\n",
      "Epoch 19/40\n",
      "28000/28000 [==============================] - 161s 6ms/step - loss: 0.4430 - accuracy: 0.7909 - val_loss: 0.5121 - val_accuracy: 0.7535\n",
      "Epoch 20/40\n",
      "28000/28000 [==============================] - 162s 6ms/step - loss: 0.4397 - accuracy: 0.7933 - val_loss: 0.5126 - val_accuracy: 0.7502\n",
      "Epoch 21/40\n",
      "28000/28000 [==============================] - 161s 6ms/step - loss: 0.4365 - accuracy: 0.7951 - val_loss: 0.5100 - val_accuracy: 0.7521\n",
      "Epoch 22/40\n",
      "28000/28000 [==============================] - 160s 6ms/step - loss: 0.4333 - accuracy: 0.7973 - val_loss: 0.5177 - val_accuracy: 0.7477\n",
      "Epoch 23/40\n",
      "28000/28000 [==============================] - 162s 6ms/step - loss: 0.4301 - accuracy: 0.7993 - val_loss: 0.5191 - val_accuracy: 0.7529\n",
      "Epoch 24/40\n",
      "28000/28000 [==============================] - 162s 6ms/step - loss: 0.4268 - accuracy: 0.8008 - val_loss: 0.5163 - val_accuracy: 0.7475\n",
      "Epoch 25/40\n",
      "28000/28000 [==============================] - 162s 6ms/step - loss: 0.4239 - accuracy: 0.8029 - val_loss: 0.5247 - val_accuracy: 0.7508\n",
      "Epoch 26/40\n",
      "28000/28000 [==============================] - 162s 6ms/step - loss: 0.4206 - accuracy: 0.8048 - val_loss: 0.5276 - val_accuracy: 0.7490\n",
      "Epoch 27/40\n",
      "28000/28000 [==============================] - 163s 6ms/step - loss: 0.4174 - accuracy: 0.8067 - val_loss: 0.5279 - val_accuracy: 0.7498\n",
      "Epoch 28/40\n",
      "28000/28000 [==============================] - 163s 6ms/step - loss: 0.4141 - accuracy: 0.8087 - val_loss: 0.5291 - val_accuracy: 0.7468\n",
      "Epoch 29/40\n",
      "28000/28000 [==============================] - 164s 6ms/step - loss: 0.4113 - accuracy: 0.8103 - val_loss: 0.5316 - val_accuracy: 0.7465\n",
      "Epoch 30/40\n",
      "28000/28000 [==============================] - 164s 6ms/step - loss: 0.4081 - accuracy: 0.8123 - val_loss: 0.5382 - val_accuracy: 0.7471\n",
      "Epoch 31/40\n",
      "28000/28000 [==============================] - 163s 6ms/step - loss: 0.4048 - accuracy: 0.8137 - val_loss: 0.5554 - val_accuracy: 0.7472\n",
      "Epoch 32/40\n",
      "28000/28000 [==============================] - 164s 6ms/step - loss: 0.4018 - accuracy: 0.8161 - val_loss: 0.5463 - val_accuracy: 0.7444\n",
      "Epoch 33/40\n",
      "28000/28000 [==============================] - 165s 6ms/step - loss: 0.3988 - accuracy: 0.8176 - val_loss: 0.5546 - val_accuracy: 0.7459\n",
      "Epoch 34/40\n",
      "28000/28000 [==============================] - 165s 6ms/step - loss: 0.3954 - accuracy: 0.8193 - val_loss: 0.5509 - val_accuracy: 0.7411\n",
      "Epoch 35/40\n",
      "28000/28000 [==============================] - 167s 6ms/step - loss: 0.3923 - accuracy: 0.8209 - val_loss: 0.5539 - val_accuracy: 0.7428\n",
      "Epoch 36/40\n",
      "28000/28000 [==============================] - 172s 6ms/step - loss: 0.3894 - accuracy: 0.8227 - val_loss: 0.5661 - val_accuracy: 0.7420\n",
      "Epoch 37/40\n",
      "28000/28000 [==============================] - 174s 6ms/step - loss: 0.3864 - accuracy: 0.8243 - val_loss: 0.5648 - val_accuracy: 0.7396\n",
      "Epoch 38/40\n",
      "28000/28000 [==============================] - 177s 6ms/step - loss: 0.3834 - accuracy: 0.8258 - val_loss: 0.5632 - val_accuracy: 0.7403\n",
      "Epoch 39/40\n",
      "28000/28000 [==============================] - 175s 6ms/step - loss: 0.3803 - accuracy: 0.8274 - val_loss: 0.5796 - val_accuracy: 0.7369\n",
      "Epoch 40/40\n",
      "28000/28000 [==============================] - 175s 6ms/step - loss: 0.3774 - accuracy: 0.8291 - val_loss: 0.5842 - val_accuracy: 0.7339\n"
     ]
    }
   ],
   "source": [
    "history=model_keras.fit(X_train ,y_train,epochs=40,validation_split=0.2)"
   ]
  },
  {
   "cell_type": "code",
   "execution_count": 41,
   "metadata": {},
   "outputs": [
    {
     "data": {
      "image/png": "[encoded data removed]",
      "text/plain": [
       "<Figure size 2160x720 with 1 Axes>"
      ]
     },
     "metadata": {
      "needs_background": "light"
     },
     "output_type": "display_data"
    }
   ],
   "source": [
    "pd.DataFrame(history.history).plot(figsize=(30,10))\n",
    "plt.grid()\n",
    "plt.gca().set_ylim(0,1)\n",
    "plt.show()"
   ]
  },
  {
   "cell_type": "markdown",
   "metadata": {},
   "source": [
    "### Evaluate the model"
   ]
  },
  {
   "cell_type": "code",
   "execution_count": 50,
   "metadata": {},
   "outputs": [
    {
     "name": "stdout",
     "output_type": "stream",
     "text": [
      "start vector:2022-08-10 15:36:49.353620\n",
      "time_taken {datetime.timedelta(seconds=1884, microseconds=605897)}\n"
     ]
    }
   ],
   "source": [
    "start_time=datetime.datetime.now()\n",
    "print(f'start vector:{start_time}')\n",
    "X_test=[]\n",
    "\n",
    "for i,row in enumerate(X_test_text):\n",
    "    X_test.append(model.infer_vector(row))   \n",
    "print(f\"time_taken\",{datetime.datetime.now()- start_time})   "
   ]
  },
  {
   "cell_type": "code",
   "execution_count": 51,
   "metadata": {},
   "outputs": [],
   "source": [
    "X_test=np.array(X_test)"
   ]
  },
  {
   "cell_type": "code",
   "execution_count": 52,
   "metadata": {},
   "outputs": [
    {
     "data": {
      "text/plain": [
       "array([[ 0.00909377, -0.01993608, -0.05660552, ...,  0.09465026,\n",
       "        -0.01763649,  0.03389749],\n",
       "       [ 0.02798623,  0.03557641, -0.10588057, ...,  0.10306751,\n",
       "        -0.01005493, -0.10774864],\n",
       "       [-0.05694797,  0.18685114,  0.08733655, ...,  0.11555881,\n",
       "        -0.06114863,  0.16946957],\n",
       "       ...,\n",
       "       [-0.03654655,  0.0199746 ,  0.04411161, ..., -0.04069826,\n",
       "         0.0014585 , -0.01750894],\n",
       "       [-0.05230367,  0.06802929, -0.02714214, ...,  0.11767636,\n",
       "        -0.01741678, -0.20336697],\n",
       "       [-0.02765312, -0.08477288, -0.03228426, ...,  0.113301  ,\n",
       "         0.0672057 , -0.09902781]], dtype=float32)"
      ]
     },
     "execution_count": 52,
     "metadata": {},
     "output_type": "execute_result"
    }
   ],
   "source": [
    "X_test"
   ]
  },
  {
   "cell_type": "markdown",
   "metadata": {},
   "source": [
    "### Save model"
   ]
  },
  {
   "cell_type": "code",
   "execution_count": 43,
   "metadata": {},
   "outputs": [],
   "source": [
    "model.save(\"keras_model_doc2vec.h5\")"
   ]
  },
  {
   "cell_type": "code",
   "execution_count": 53,
   "metadata": {},
   "outputs": [
    {
     "name": "stdout",
     "output_type": "stream",
     "text": [
      "15000/15000 [==============================] - 41s 3ms/step - loss: 0.7557 - accuracy: 0.6793\n"
     ]
    },
    {
     "data": {
      "text/plain": [
       "[0.7556900382041931, 0.6793458461761475]"
      ]
     },
     "execution_count": 53,
     "metadata": {},
     "output_type": "execute_result"
    }
   ],
   "source": [
    "model_keras.evaluate(X_test,y_test)\n"
   ]
  },
  {
   "cell_type": "markdown",
   "metadata": {},
   "source": [
    "### Prediction of sentiment"
   ]
  },
  {
   "cell_type": "code",
   "execution_count": 64,
   "metadata": {},
   "outputs": [
    {
     "name": "stdout",
     "output_type": "stream",
     "text": [
      "1/1 [==============================] - 0s 41ms/step\n",
      "[[0.15148896]]\n"
     ]
    }
   ],
   "source": [
    "text_pred='this was a bad day'\n",
    "text_tokenize=text_pred.split(' ')\n",
    "text_vectorize=model.infer_vector(text_tokenize).reshape(-1,1000)\n",
    "print(model_keras.predict(text_vectorize))\n"
   ]
  },
  {
   "cell_type": "code",
   "execution_count": null,
   "metadata": {},
   "outputs": [],
   "source": []
  }
 ],
 "metadata": {
  "kernelspec": {
   "display_name": "sentimnet_pred",
   "language": "python",
   "name": "sentimnet_pred"
  },
  "language_info": {
   "codemirror_mode": {
    "name": "ipython",
    "version": 3
   },
   "file_extension": ".py",
   "mimetype": "text/x-python",
   "name": "python",
   "nbconvert_exporter": "python",
   "pygments_lexer": "ipython3",
   "version": "3.7.4"
  }
 },
 "nbformat": 4,
 "nbformat_minor": 4
}
